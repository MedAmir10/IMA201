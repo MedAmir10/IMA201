{
 "cells": [
  {
   "cell_type": "code",
   "execution_count": 1,
   "id": "d40695d4",
   "metadata": {},
   "outputs": [
    {
     "name": "stderr",
     "output_type": "stream",
     "text": [
      "C:\\Users\\DELL\\anaconda3\\Lib\\site-packages\\paramiko\\transport.py:219: CryptographyDeprecationWarning: Blowfish has been deprecated\n",
      "  \"class\": algorithms.Blowfish,\n"
     ]
    }
   ],
   "source": [
    "import numpy as np\n",
    "import platform\n",
    "import tempfile\n",
    "import os\n",
    "import matplotlib.pyplot as plt\n",
    "from scipy import ndimage as ndi\n",
    "# necessite scikit-image \n",
    "from skimage import io as skio"
   ]
  },
  {
   "cell_type": "code",
   "execution_count": 2,
   "id": "8dc656af",
   "metadata": {},
   "outputs": [],
   "source": [
    "# POUR LA MORPHO\n",
    "from skimage.segmentation import watershed\n",
    "from skimage.feature import peak_local_max"
   ]
  },
  {
   "cell_type": "code",
   "execution_count": 3,
   "id": "4e551d70",
   "metadata": {},
   "outputs": [],
   "source": [
    "def viewimage(im,normalise=True,MINI=0.0, MAXI=255.0):\n",
    "    \"\"\" Cette fonction fait afficher l'image EN NIVEAUX DE GRIS \n",
    "        dans gimp. Si un gimp est deja ouvert il est utilise.\n",
    "        Par defaut normalise=True. Et dans ce cas l'image est normalisee \n",
    "        entre 0 et 255 avant d'être sauvegardee.\n",
    "        Si normalise=False MINI et MAXI seront mis a 0 et 255 dans l'image resultat\n",
    "        \n",
    "    \"\"\"\n",
    "    imt=np.float32(im.copy())\n",
    "    if platform.system()=='Darwin': #on est sous mac\n",
    "        prephrase='open -a GIMP '\n",
    "        endphrase=' ' \n",
    "    elif platform.system()=='Windows': \n",
    "        #ou windows ; probleme : il faut fermer gimp pour reprendre la main; \n",
    "        #si vous savez comment faire (commande start ?) je suis preneur \n",
    "        prephrase='\"C:/Users/DELL/AppData/Local/Programs/GIMP 2/bin/gimp-2.10.exe\" '\n",
    "        endphrase=' '\n",
    "    else: #SINON ON SUPPOSE LINUX (si vous avez un windows je ne sais pas comment faire. Si vous savez dites-moi.)\n",
    "        prephrase='gimp '\n",
    "        endphrase= ' &'\n",
    "    \n",
    "    if normalise:\n",
    "        m=im.min()\n",
    "        imt=imt-m\n",
    "        M=imt.max()\n",
    "        if M>0:\n",
    "            imt=255*imt/M\n",
    "\n",
    "    else:\n",
    "        imt=(imt-MINI)/(MAXI-MINI)\n",
    "        imt[imt<0]=0\n",
    "        imt[imt>1]=1\n",
    "        imt *= 255\n",
    "    \n",
    "    nomfichier=tempfile.mktemp('TPIMA.png')\n",
    "    commande=prephrase +nomfichier+endphrase\n",
    "    imt = imt.astype(np.uint8)\n",
    "    skio.imsave(nomfichier,imt)\n",
    "    os.system(commande)\n",
    "\n",
    "def noise(im,br):\n",
    "    \"\"\" Cette fonction ajoute un bruit blanc gaussier d'ecart type br\n",
    "       a l'image im et renvoie le resultat\"\"\"\n",
    "    imt=np.float32(im.copy())\n",
    "    sh=imt.shape\n",
    "    bruit=br*np.random.randn(*sh)\n",
    "    imt=imt+bruit\n",
    "    return imt\n",
    "\n",
    "def quantize(im,n=2):\n",
    "    \"\"\"\n",
    "    Renvoie une version quantifiee de l'image sur n (=2 par defaut) niveaux  \n",
    "    \"\"\"\n",
    "    imt=np.float32(im.copy())\n",
    "    if np.floor(n)!= n or n<2:\n",
    "        raise Exception(\"La valeur de n n'est pas bonne dans quantize\")\n",
    "    else:\n",
    "        m=imt.min()\n",
    "        M=imt.max()\n",
    "        imt=np.floor(n*((imt-m)/(M-m)))*(M-m)/n+m\n",
    "        imt[imt==M]=M-(M-m)/n #cas des valeurs maximales\n",
    "        return imt\n",
    "    \n",
    "\n",
    "def seuil(im,s):\n",
    "    \"\"\" renvoie une image blanche(255) la ou im>=s et noire (0) ailleurs.\n",
    "    \"\"\"\n",
    "    imt=np.float32(im.copy())\n",
    "    mask=imt<s\n",
    "    imt[mask]=0\n",
    "    imt[~mask]=255\n",
    "    return imt\n",
    "\n",
    "def gradx(im):\n",
    "    \"renvoie le gradient dans la direction x\"\n",
    "    imt=np.float32(im)\n",
    "    gx=0*imt\n",
    "    gx[:,:-1]=imt[:,1:]-imt[:,:-1]\n",
    "    return gx\n",
    "\n",
    "def grady(im):\n",
    "    \"renvoie le gradient dans la direction y\"\n",
    "    imt=np.float32(im)\n",
    "    gy=0*imt\n",
    "    gy[:-1,:]=imt[1:,:]-imt[:-1,:]\n",
    "    return gy\n",
    "\n",
    "def view_spectre(im,option=1,hamming=False):\n",
    "    \"\"\" affiche le spectre d'une image\n",
    "     si option =1 on affiche l'intensite de maniere lineaire\n",
    "     si option =2 on affiche le log\n",
    "     si hamming=True (defaut False) alors une fenetre de hamming est appliquee avant de prendre la transformee de Fourier\n",
    "     \"\"\"\n",
    "    imt=np.float32(im.copy())\n",
    "    (ty,tx)=im.shape\n",
    "    pi=np.pi\n",
    "    if hamming:\n",
    "        XX=np.ones((ty,1))@(np.arange(0,tx).reshape((1,tx)))\n",
    "        YY=(np.arange(0,ty).reshape((ty,1)))@np.ones((1,tx))\n",
    "        imt=(1-np.cos(2*pi*XX/(tx-1)))*(1-np.cos(2*pi*YY/(ty-1)))*imt\n",
    "    aft=np.fft.fftshift(abs(np.fft.fft2(imt)))\n",
    "    \n",
    "    if option==1:\n",
    "        viewimage(aft)\n",
    "    else:\n",
    "        viewimage(np.log(0.1+aft))\n",
    "\n",
    "\n",
    "def filterlow(im): \n",
    "    \"\"\"applique un filtre passe-bas parfait a une image (taille paire)\"\"\"\n",
    "    (ty,tx)=im.shape\n",
    "    imt=np.float32(im.copy())\n",
    "    pi=np.pi\n",
    "    XX=np.concatenate((np.arange(0,tx/2+1),np.arange(-tx/2+1,0)))\n",
    "    XX=np.ones((ty,1))@(XX.reshape((1,tx)))\n",
    "    \n",
    "    YY=np.concatenate((np.arange(0,ty/2+1),np.arange(-ty/2+1,0)))\n",
    "    YY=(YY.reshape((ty,1)))@np.ones((1,tx))\n",
    "    mask=(abs(XX)<tx/4) & (abs(YY)<ty/4)\n",
    "    imtf=np.fft.fft2(imt)\n",
    "    imtf[~mask]=0\n",
    "    return np.real(np.fft.ifft2(imtf))\n",
    "\n",
    "def filtergauss(im):\n",
    "    \"\"\"applique un filtre passe-bas gaussien. coupe approximativement a f0/4\"\"\"\n",
    "    (ty,tx)=im.shape\n",
    "    imt=np.float32(im.copy())\n",
    "    pi=np.pi\n",
    "    XX=np.concatenate((np.arange(0,tx/2+1),np.arange(-tx/2+1,0)))\n",
    "    XX=np.ones((ty,1))@(XX.reshape((1,tx)))\n",
    "    \n",
    "    YY=np.concatenate((np.arange(0,ty/2+1),np.arange(-ty/2+1,0)))\n",
    "    YY=(YY.reshape((ty,1)))@np.ones((1,tx))\n",
    "    # C'est une gaussienne, dont la moyenne est choisie de sorte que\n",
    "    # l'integrale soit la meme que celle du filtre passe bas\n",
    "    # (2*pi*sig^2=1/4*x*y (on a suppose que tx=ty))\n",
    "    sig=(tx*ty)**0.5/2/(pi**0.5)\n",
    "    mask=np.exp(-(XX**2+YY**2)/2/sig**2)\n",
    "    imtf=np.fft.fft2(imt)*mask\n",
    "    return np.real(np.fft.ifft2(imtf))\n",
    "\n",
    "def Get_values_without_error(im,XX,YY):\n",
    "    \"\"\" retouren une image de la taille de XX et YY \n",
    "     qui vaut im[XX,YY] mais en faisant attention a ce que XX et YY ne debordent\n",
    "     pas \"\"\"\n",
    "    sh=XX.shape\n",
    "    defaultval=0;\n",
    "    if len(im.shape)>2: #color image !\n",
    "        defaultval=np.asarray([0,0,0])\n",
    "        sh=[*sh,im.shape[2]]\n",
    "    imout=np.zeros(sh)\n",
    "    (ty,tx)=XX.shape[0:2]\n",
    "    for k in range(ty):\n",
    "        for l in range(tx):\n",
    "            posx=int(XX[k,l]-0.5)\n",
    "            posy=int(YY[k,l]-0.5)\n",
    "            if posx<0 or posx>=im.shape[1] or posy<0 or posy>=im.shape[0]:\n",
    "                valtmp=defaultval\n",
    "            else:\n",
    "                valtmp=im[posy,posx]\n",
    "            imout[k,l]=valtmp\n",
    "    \n",
    "    return imout        \n",
    "\n",
    "def rotation(im,theta,alpha=1.0,x0=None,y0=None,ech=0,clip=True):\n",
    "    \"\"\"\n",
    "   %\n",
    "%Effectue la transformation geometrique d'une image par\n",
    "%une rotation + homothetie \n",
    "%\n",
    "% x' = alpha*cos(theta)*(x-x0) - alpha*sin(theta)*(y-y0) + x0\n",
    "% y' = alpha*sin(theta)*(x-x0) + alpha*cos(theta)*(y-y0) + y0 \n",
    "%\n",
    "% theta : angle de rotation en degres\n",
    "% alpha : facteur d'homothetie (defaut=1)\n",
    "% x0, y0 : centre de la rotation (defaut=centre de l'image)\n",
    "% ech : plus proche voisin (defaut=0) ou bilineaire (1)\n",
    "% clip : format de l'image originale (defaut=True), image complete (False)\n",
    "% \n",
    "\n",
    "    \"\"\" \n",
    "    dy=im.shape[0]\n",
    "    dx=im.shape[1]\n",
    "    \n",
    "    if x0 is None:\n",
    "        x0=dx/2.0\n",
    "    if y0 is None:\n",
    "        y0=dy/2.0\n",
    "    v0=np.asarray([x0,y0]).reshape((2,1))\n",
    "    theta=theta/180*np.pi\n",
    "    ct=alpha*np.cos(theta)\n",
    "    st=alpha*np.sin(theta)\n",
    "    matdirect=np.asarray([[ct,-st],[st,ct]])\n",
    "    if clip==False:\n",
    "        #ON CALCULE exactement la transformee des positions de l'image\n",
    "        # on cree un tableau des quatre points extremes\n",
    "        tabextreme=np.asarray([[0,0,dx,dx],[0,dy,0,dy]])\n",
    "        tabextreme_trans= matdirect@(tabextreme-v0)+v0\n",
    "        xmin=np.floor(tabextreme_trans[0].min())\n",
    "        xmax=np.ceil(tabextreme_trans[0].max())\n",
    "        ymin=np.floor(tabextreme_trans[1].min())\n",
    "        ymax=np.ceil(tabextreme_trans[1].max())\n",
    "        \n",
    "    else:\n",
    "        xmin=0\n",
    "        xmax=dx\n",
    "        ymin=0\n",
    "        ymax=dy\n",
    "    if len(im.shape)>2:\n",
    "        shout=(int(ymax-ymin),int(xmax-xmin),im.shape[2]) # image couleur\n",
    "    else:\n",
    "        shout=(int(ymax-ymin),int(xmax-xmin))\n",
    "    dyout=shout[0]\n",
    "    dxout=shout[1]\n",
    "    eps=0.0001\n",
    "    Xout=np.arange(xmin+0.5,xmax-0.5+eps)\n",
    "    Xout=np.ones((dyout,1))@Xout.reshape((1,-1)) \n",
    "    \n",
    "    Yout=np.arange(ymin+0.5,ymax-0.5+eps)\n",
    "    Yout=Yout.reshape((-1,1))@np.ones((1,dxout))\n",
    "    \n",
    "    XY=np.concatenate((Xout.reshape((1,-1)),Yout.reshape((1,-1))),axis=0)\n",
    "    XY=np.linalg.inv(matdirect)@(XY-v0)+v0\n",
    "    Xout=XY[0,:].reshape(shout)\n",
    "    Yout=XY[1,:].reshape(shout)\n",
    "    if ech==0: # plus proche voisin\n",
    "        out=Get_values_without_error(im,Xout,Yout)\n",
    "    else:  #bilineaire \n",
    "        assert ech == 1 , \"Vous avez choisi un echantillonnage inconnu\"\n",
    "        Y0=np.floor(Yout-0.5)+0.5 # on va au entier+0.5 inferieur\n",
    "        X0=np.floor(Xout-0.5)+0.5\n",
    "        Y1=np.ceil(Yout-0.5)+0.5\n",
    "        X1=np.ceil(Xout-0.5)+0.5\n",
    "        PoidsX=Xout-X0\n",
    "        PoidsY=Yout-Y0\n",
    "        PoidsX[X0==X1]=1 #points entiers\n",
    "        PoidsY[Y0==Y1]=1 #points entiers\n",
    "        I00=Get_values_without_error(im,X0,Y0)\n",
    "        I01=Get_values_without_error(im,X0,Y1)\n",
    "        I10=Get_values_without_error(im,X1,Y0)\n",
    "        I11=Get_values_without_error(im,X1,Y1)\n",
    "        out=I00*(1.0-PoidsX)*(1.0-PoidsY)+I01*(1-PoidsX)*PoidsY+I10*PoidsX*(1-PoidsY)+I11*PoidsX*PoidsY\n",
    "    return out\n",
    "\n",
    "def get_gau_ker(s):\n",
    "    ss=int(max(3,2*np.round(2.5*s)+1))\n",
    "    ms=(ss-1)//2\n",
    "    X=np.arange(-ms,ms+0.99)\n",
    "    y=np.exp(-X**2/2/s**2)\n",
    "    out=y.reshape((ss,1))@y.reshape((1,ss))\n",
    "    out=out/out.sum()\n",
    "    return out\n",
    "\n",
    "def get_cst_ker(t):\n",
    "    return np.ones((t,t))/t**2\n",
    "\n",
    "def filtre_lineaire(im,mask):\n",
    "    \"\"\" renvoie la convolution de l'image avec le mask. Le calcul se fait en \n",
    "utilisant la transformee de Fourier et est donc circulaire.  Fonctionne seulement pour \n",
    "les images en niveau de gris.\n",
    "\"\"\"\n",
    "    fft2=np.fft.fft2\n",
    "    ifft2=np.fft.ifft2\n",
    "    (y,x)=im.shape\n",
    "    (ym,xm)=mask.shape\n",
    "    mm=np.zeros((y,x))\n",
    "    mm[:ym,:xm]=mask\n",
    "    fout=(fft2(im)*fft2(mm))\n",
    "    # on fait une translation pour ne pas avoir de decalage de l'image\n",
    "    # pour un mask de taille impair ce sera parfait, sinon, il y a toujours un decalage de 1/2\n",
    "    mm[:ym,:xm]=0\n",
    "    y2=int(np.round(ym/2-0.5))\n",
    "    x2=int(np.round(xm/2-0.5))\n",
    "    mm[y2,x2]=1\n",
    "    out=np.real(ifft2(fout*np.conj(fft2(mm))))\n",
    "    return out\n",
    "\n",
    "def filtre_inverse(im,mask):\n",
    "    \"\"\" renvoie l'inverse de mask applique a im.\n",
    "    \"\"\"\n",
    "    fft2=np.fft.fft2\n",
    "    ifft2=np.fft.ifft2\n",
    "    (y,x)=im.shape\n",
    "    (ym,xm)=mask.shape\n",
    "    mm=np.zeros((y,x))\n",
    "    mm[:ym,:xm]=mask\n",
    "    fout=(fft2(im)/fft2(mm))\n",
    "    \n",
    "    # on fait une translation pour ne pas avoir de decalage de l'image\n",
    "    # pour un mask de taille impair ce sera parfait, sinon, il y a toujours un decalage de 1/2\n",
    "    mm[:ym,:xm]=0\n",
    "    y2=int(np.round(ym/2-0.5))\n",
    "    x2=int(np.round(xm/2-0.5))\n",
    "    mm[y2,x2]=1\n",
    "    out=np.real(ifft2(fout*(fft2(mm))))\n",
    "    return out\n",
    "\n",
    "\n",
    "def median_filter(im,typ=1,r=1,xy=None):\n",
    "    \"\"\" renvoie le median de l'image im.\n",
    "    si typ==1 (defaut) le median est calcule sur un carre de cote 2r+1\n",
    "    si typ==2 : disque de rayon r\n",
    "    si typ==3 alors xy est un couple de liste de x et liste de y\n",
    "         ([-1,0,1] , [0,0,0]) donne un median sur un segment horizontql de taille trois. \n",
    "         \"\"\"\n",
    "    lx=[]\n",
    "    ly=[]\n",
    "    (ty,tx)=im.shape\n",
    "    if typ==1: #carre\n",
    "        \n",
    "        for k in range(-r,r+1):\n",
    "            for l in range(-r,r+1):\n",
    "                lx.append(k)\n",
    "                ly.append(l)\n",
    "        \n",
    "    elif typ==2:\n",
    "        for k in range(-r,r+1):\n",
    "            for l in range(-r,r+1):\n",
    "                if k**2+l**2<=r**2:\n",
    "                    lx.append(k)\n",
    "                    ly.append(l)\n",
    "    else: #freeshape\n",
    "        lx,ly=xy\n",
    "    \n",
    "    debx=-min(lx) #min is supposed negatif\n",
    "    deby=-min(ly)\n",
    "    finx=tx-max(lx) #max is supposed positif\n",
    "    finy=ty-max(ly)\n",
    "    ttx=finx-debx\n",
    "    tty=finy-deby\n",
    "    tab=np.zeros((len(lx),ttx*tty))\n",
    "    #print (lx,ly)\n",
    "    #print(ttx,tty)\n",
    "    #print(im[deby+ly[k]:tty+ly[k]+deby,debx+lx[k]:debx+ttx+lx[k]].reshape(-1).shape)\n",
    "    for k in range(len(lx)):\n",
    "        tab[k,:]=im[deby+ly[k]:deby+tty+ly[k],debx+lx[k]:debx+ttx+lx[k]].reshape(-1)\n",
    "    out=im.copy()\n",
    "    out[deby:finy,debx:finx]=np.median(tab,axis=0).reshape((tty,ttx))\n",
    "    return out\n",
    "\n",
    "def wiener(im,K,lamb=0):\n",
    "    \"\"\"effectue un filtrage de wiener de l'image im par le filtre K.\n",
    "       lamb=0 donne le filtre inverse\n",
    "       on rappelle que le filtre de Wiener est une tentaive d'inversion du noyau K\n",
    "       avec une regularisation qui permet de ne pas trop augmenter le bruit.\n",
    "       \"\"\"\n",
    "    fft2=np.fft.fft2\n",
    "    ifft2=np.fft.ifft2\n",
    "    (ty,tx)=im.shape\n",
    "    (yK,xK)=K.shape\n",
    "    KK=np.zeros((ty,tx))\n",
    "    KK[:yK,:xK]=K\n",
    "    x2=tx/2\n",
    "    y2=ty/2\n",
    "    \n",
    "    fX=np.concatenate((np.arange(0,x2+0.99),np.arange(-x2+1,-0.1)))\n",
    "    fY=np.concatenate((np.arange(0,y2+0.99),np.arange(-y2+1,-0.1)))\n",
    "    fX=np.ones((ty,1))@fX.reshape((1,-1))\n",
    "    fY=fY.reshape((-1,1))@np.ones((1,tx))\n",
    "    fX=fX/tx\n",
    "    fY=fY/ty\n",
    "    \n",
    "    w2=fX**2+fY**2\n",
    "    w=w2**0.5\n",
    "    \n",
    "    #tranformee de Fourier de l'image degradeee\n",
    "    g=fft2(im)\n",
    "    #transformee de Fourier du noyau\n",
    "    k=fft2(KK)\n",
    "    #fonction de mutilplication\n",
    "    mul=np.conj(k)/(abs(k)**2+lamb*w2)\n",
    "    #filtrage de wiener\n",
    "    fout=g*mul\n",
    "    \n",
    "    # on effectue une translation pour une raison technique\n",
    "    mm=np.zeros((ty,tx))\n",
    "    y2=int(np.round(yK/2-0.5))\n",
    "    x2=int(np.round(xK/2-0.5))\n",
    "    mm[y2,x2]=1\n",
    "    out=np.real(ifft2(fout*(fft2(mm))))\n",
    "    return out\n",
    "\n",
    "def var_image(im,x0,y0,x1,y1):\n",
    "    patch=im[y0:y1+1,x0:x1+1]\n",
    "    return patch.var()"
   ]
  },
  {
   "cell_type": "code",
   "execution_count": 7,
   "id": "b8f9482e",
   "metadata": {},
   "outputs": [],
   "source": [
    "im = skio.imread('images/lena.tif')\n",
    "theta = 45\n",
    "im_rp = rotation(im, theta, clip = False, ech = 0)\n",
    "im_rb = rotation(im, theta, clip = False, ech = 1)\n",
    "viewimage(im)\n",
    "viewimage(im_rp)\n",
    "viewimage(im_rb)"
   ]
  },
  {
   "cell_type": "code",
   "execution_count": 8,
   "id": "33999cab",
   "metadata": {},
   "outputs": [],
   "source": [
    "im_8_rp = im_rp\n",
    "im_8_rb = im_rb\n",
    "for i in range(7):\n",
    "    im_8_rp = rotation(im_8_rp, theta, ech = 0)\n",
    "    im_8_rb = rotation(im_8_rb, theta, ech = 1)\n",
    "viewimage(im_8_rp)\n",
    "viewimage(im_8_rb)"
   ]
  },
  {
   "cell_type": "code",
   "execution_count": 9,
   "id": "7fc8c04b",
   "metadata": {},
   "outputs": [],
   "source": [
    "alpha = 0.5\n",
    "im_zr = rotation(im, theta, alpha,ech = 1, clip = False)\n",
    "viewimage(im_zr)"
   ]
  },
  {
   "cell_type": "code",
   "execution_count": 10,
   "id": "18c2566e",
   "metadata": {},
   "outputs": [],
   "source": [
    "imp = skio.imread('images/pyramide.tif')\n",
    "viewimage(imp)\n",
    "s = 2\n",
    "gau_ker = get_gau_ker(s)\n",
    "imp_b = noise(imp,10)\n",
    "viewimage(imp_b)\n",
    "imp_gb = filtre_lineaire(imp_b, gau_ker)\n",
    "viewimage(imp_gb)"
   ]
  },
  {
   "cell_type": "code",
   "execution_count": 11,
   "id": "82d2fb65",
   "metadata": {},
   "outputs": [
    {
     "data": {
      "text/plain": [
       "(0.0, 100.23787235411565, 11.500014440042587)"
      ]
     },
     "execution_count": 11,
     "metadata": {},
     "output_type": "execute_result"
    }
   ],
   "source": [
    "n = imp.shape[0]\n",
    "x0 = 0; y0 = n//2; x1 = n//10 ; y1 =y0 + n//10\n",
    "v = var_image(imp, x0, y0, x1, y1)\n",
    "v_b = var_image(imp_b, x0, y0, x1, y1)\n",
    "v_gb = var_image(imp_gb, x0, y0, x1, y1)\n",
    "(v,v_b, v_gb)"
   ]
  },
  {
   "cell_type": "code",
   "execution_count": 12,
   "id": "c371b5c3",
   "metadata": {},
   "outputs": [],
   "source": [
    "imp_med =  median_filter(imp_b)\n",
    "viewimage(imp_med)"
   ]
  },
  {
   "cell_type": "code",
   "execution_count": 13,
   "id": "dfc76ffc",
   "metadata": {},
   "outputs": [
    {
     "data": {
      "text/plain": [
       "(0.0, 100.23787235411565, 19.144736695559654)"
      ]
     },
     "execution_count": 13,
     "metadata": {},
     "output_type": "execute_result"
    }
   ],
   "source": [
    "v_med = var_image(imp_med, x0, y0, x1, y1)\n",
    "(v,v_b, v_med)"
   ]
  },
  {
   "cell_type": "code",
   "execution_count": 16,
   "id": "4479824f",
   "metadata": {},
   "outputs": [
    {
     "data": {
      "text/plain": [
       "(88.52625725968102, 17.555726557944652, 4.654129401762894)"
      ]
     },
     "execution_count": 16,
     "metadata": {},
     "output_type": "execute_result"
    }
   ],
   "source": [
    "imp_pi = skio.imread('images/pyra-impulse.tif')\n",
    "viewimage(imp_pi)\n",
    "imp_pi_lg = filtre_lineaire(imp_pi, gau_ker)\n",
    "viewimage(imp_pi_lg)\n",
    "imp_pi_med =  median_filter(imp_pi)\n",
    "viewimage(imp_pi_med)\n",
    "v_pi = var_image(imp_pi, x0, y0, x1, y1)\n",
    "v_pi_lg = var_image(imp_pi_lg, x0, y0, x1, y1)\n",
    "v_pi_med = var_image(imp_pi_med, x0, y0, x1, y1)\n",
    "(v_pi,v_pi_lg, v_pi_med)"
   ]
  },
  {
   "cell_type": "code",
   "execution_count": 9,
   "id": "3b650353",
   "metadata": {},
   "outputs": [],
   "source": [
    "imc_pi = skio.imread('images/carre_orig.tif')\n",
    "viewimage(imc_pi)\n",
    "s = 1\n",
    "gau_ker = get_gau_ker(s)\n",
    "imc_pi_lg = filtre_lineaire(imc_pi, gau_ker)\n",
    "viewimage(imc_pi_lg)\n",
    "imc_pi_med =  median_filter(imc_pi)\n",
    "viewimage(imc_pi_med)"
   ]
  },
  {
   "cell_type": "code",
   "execution_count": 10,
   "id": "b618d451",
   "metadata": {},
   "outputs": [],
   "source": [
    "im = skio.imread('images/lena.tif')\n",
    "viewimage(im)\n",
    "s = 2\n",
    "gau_ker = get_gau_ker(s)\n",
    "im_f = filtre_lineaire(im, gau_ker)\n",
    "viewimage(im_f)\n",
    "im_1 = filtre_inverse(im_f,gau_ker)\n",
    "viewimage(im_1)"
   ]
  },
  {
   "cell_type": "code",
   "execution_count": 11,
   "id": "6952afa6",
   "metadata": {},
   "outputs": [],
   "source": [
    "im_fb = noise(im_f, 0.1)\n",
    "viewimage(im_fb)\n",
    "im_2 = filtre_inverse(im_fb,gau_ker)\n",
    "viewimage(im_2)"
   ]
  },
  {
   "cell_type": "code",
   "execution_count": 42,
   "id": "8259c6cf",
   "metadata": {},
   "outputs": [
    {
     "data": {
      "text/plain": [
       "array([[0. , 0. , 0.2],\n",
       "       [0.2, 0.2, 0.2],\n",
       "       [0. , 0. , 0.2]])"
      ]
     },
     "execution_count": 42,
     "metadata": {},
     "output_type": "execute_result"
    }
   ],
   "source": [
    "imcf = skio.imread('images/carre_flou.tif')\n",
    "viewimage(imcf)\n",
    "ker = imcf[48:51,198:201]/255\n",
    "viewimage(ker)\n",
    "ker"
   ]
  },
  {
   "cell_type": "code",
   "execution_count": 51,
   "id": "f98c75fe",
   "metadata": {},
   "outputs": [],
   "source": [
    "imcf_b = noise(imcf, 10)\n",
    "viewimage(imcf_b)"
   ]
  },
  {
   "cell_type": "code",
   "execution_count": 52,
   "id": "d1604785",
   "metadata": {},
   "outputs": [],
   "source": [
    "imcf_w0 = wiener(imcf_b,ker,lamb = 0)\n",
    "viewimage(imcf_w0)"
   ]
  },
  {
   "cell_type": "code",
   "execution_count": 53,
   "id": "618078f2",
   "metadata": {},
   "outputs": [],
   "source": [
    "imcf_w1 = wiener(imcf_b,ker,lamb = 1)\n",
    "viewimage(imcf_w1)"
   ]
  },
  {
   "cell_type": "code",
   "execution_count": 54,
   "id": "9e0a0352",
   "metadata": {},
   "outputs": [],
   "source": [
    "imcf_w10 = wiener(imcf_b,ker,lamb = 10)\n",
    "viewimage(imcf_w10)\n"
   ]
  },
  {
   "cell_type": "code",
   "execution_count": 55,
   "id": "ab8585ec",
   "metadata": {},
   "outputs": [],
   "source": [
    "imcf_w100 = wiener(imcf_b,ker,lamb = 100)\n",
    "viewimage(imcf_w100)\n"
   ]
  },
  {
   "cell_type": "code",
   "execution_count": 56,
   "id": "456941ee",
   "metadata": {},
   "outputs": [],
   "source": [
    "imcf_w1000 = wiener(imcf_b,ker,lamb = 1000)\n",
    "viewimage(imcf_w1000)\n"
   ]
  },
  {
   "cell_type": "code",
   "execution_count": 62,
   "id": "54592eed",
   "metadata": {},
   "outputs": [],
   "source": [
    "imc_pi = skio.imread('images/carre_orig.tif')\n",
    "imc_bg = noise(imc_pi,5)\n",
    "(n,m) = imc_pi.shape"
   ]
  },
  {
   "cell_type": "code",
   "execution_count": 69,
   "id": "22af561a",
   "metadata": {},
   "outputs": [
    {
     "data": {
      "text/plain": [
       "(0.0, 3, 1.4816247286386126)"
      ]
     },
     "execution_count": 69,
     "metadata": {},
     "output_type": "execute_result"
    }
   ],
   "source": [
    "l = n//5 + 1\n",
    "p = m//5 + 1\n",
    "min_eps = 256 * 256\n",
    "ker_c = 0\n",
    "x0 = var_image(imc_pi,0,0,l,p)\n",
    "x = var_image(median_filter(imc_bg,typ=2,r=4),0,0,l,p)\n",
    "for i in range(0,100):\n",
    "    y=var_image(filtre_lineaire(imc_bg,get_cst_ker(i)),0,0,l,p)\n",
    "    if(np.abs(y-x)<min_eps):\n",
    "        ker_c = i\n",
    "        min_eps = np.abs(y-x)\n",
    "(x0,ker_c,min_eps)"
   ]
  },
  {
   "cell_type": "code",
   "execution_count": 4,
   "id": "142b3978",
   "metadata": {},
   "outputs": [
    {
     "ename": "NameError",
     "evalue": "name 'imc_bg' is not defined",
     "output_type": "error",
     "traceback": [
      "\u001b[1;31m---------------------------------------------------------------------------\u001b[0m",
      "\u001b[1;31mNameError\u001b[0m                                 Traceback (most recent call last)",
      "Cell \u001b[1;32mIn[4], line 1\u001b[0m\n\u001b[1;32m----> 1\u001b[0m imc_c \u001b[38;5;241m=\u001b[39m median_filter(imc_bg,typ\u001b[38;5;241m=\u001b[39m\u001b[38;5;241m2\u001b[39m,r\u001b[38;5;241m=\u001b[39m\u001b[38;5;241m4\u001b[39m)\n\u001b[0;32m      2\u001b[0m viewimage(imc_c)\n\u001b[0;32m      3\u001b[0m imc_l \u001b[38;5;241m=\u001b[39m filtre_lineaire(imc_bg,get_cst_ker(\u001b[38;5;241m3\u001b[39m))\n",
      "\u001b[1;31mNameError\u001b[0m: name 'imc_bg' is not defined"
     ]
    }
   ],
   "source": [
    "imc_c = median_filter(imc_bg,typ=2,r=4)\n",
    "viewimage(imc_c)\n",
    "imc_l = filtre_lineaire(imc_bg,get_cst_ker(3))\n",
    "viewimage(imc_l)"
   ]
  },
  {
   "cell_type": "code",
   "execution_count": 32,
   "id": "3ec9766c",
   "metadata": {},
   "outputs": [],
   "source": [
    "def wiener2(im,K,var):\n",
    "    \"\"\"effectue un filtrage de wiener de l'image im par le filtre K.\n",
    "       lamb=0 donne le filtre inverse\n",
    "       on rappelle que le filtre de Wiener est une tentaive d'inversion du noyau K\n",
    "       avec une regularisation qui permet de ne pas trop augmenter le bruit.\n",
    "       \"\"\"\n",
    "    fft2=np.fft.fft2\n",
    "    ifft2=np.fft.ifft2\n",
    "    (ty,tx)=im.shape\n",
    "    (yK,xK)=K.shape\n",
    "    KK=np.zeros((ty,tx))\n",
    "    KK[:yK,:xK]=K\n",
    "    x2=tx/2\n",
    "    y2=ty/2\n",
    "    \n",
    "    fX=np.concatenate((np.arange(0,x2+0.99),np.arange(-x2+1,-0.1)))\n",
    "    fY=np.concatenate((np.arange(0,y2+0.99),np.arange(-y2+1,-0.1)))\n",
    "    fX=np.ones((ty,1))@fX.reshape((1,-1))\n",
    "    fY=fY.reshape((-1,1))@np.ones((1,tx))\n",
    "    fX=fX/tx\n",
    "    fY=fY/ty\n",
    "    \n",
    "    w2=fX**2+fY**2\n",
    "    w=w2**0.5\n",
    "    \n",
    "    #tranformee de Fourier de l'image degradeee\n",
    "    g=fft2(im)\n",
    "    #transformee de Fourier du noyau\n",
    "    k=fft2(KK)\n",
    "    #nouveau quotien introduit \n",
    "    q = (ty*tx * var) / (abs(g)**2 + 0.0001)\n",
    "    #fonction de mutilplication\n",
    "    mul=np.conj(k)/(abs(k)**2+ q)\n",
    "    #filtrage de wiener\n",
    "    fout=g*mul\n",
    "    \n",
    "    # on effectue une translation pour une raison technique\n",
    "    mm=np.zeros((ty,tx))\n",
    "    y2=int(np.round(yK/2-0.5))\n",
    "    x2=int(np.round(xK/2-0.5))\n",
    "    mm[y2,x2]=1\n",
    "    out=np.real(ifft2(fout*(fft2(mm))))\n",
    "    return out"
   ]
  },
  {
   "cell_type": "code",
   "execution_count": null,
   "id": "343cc02a",
   "metadata": {},
   "outputs": [],
   "source": []
  },
  {
   "cell_type": "code",
   "execution_count": null,
   "id": "22419968",
   "metadata": {},
   "outputs": [],
   "source": [
    "imcf = skio.imread('images/carre_flou.tif')\n",
    "#viewimage(imcf)\n",
    "ker = imcf[48:51,198:201]/255\n",
    "imcw = wiener2(imcf,ker,imcf.var())\n",
    "viewimage(imcw)"
   ]
  },
  {
   "cell_type": "code",
   "execution_count": 30,
   "id": "fda2ce30",
   "metadata": {},
   "outputs": [
    {
     "data": {
      "text/plain": [
       "array([[0. , 0. , 0.2],\n",
       "       [0.2, 0.2, 0.2],\n",
       "       [0. , 0. , 0.2]])"
      ]
     },
     "execution_count": 30,
     "metadata": {},
     "output_type": "execute_result"
    }
   ],
   "source": [
    "ker\n"
   ]
  },
  {
   "cell_type": "code",
   "execution_count": 31,
   "id": "0eb6a27b",
   "metadata": {},
   "outputs": [
    {
     "data": {
      "text/plain": [
       "2982.9871881147847"
      ]
     },
     "execution_count": 31,
     "metadata": {},
     "output_type": "execute_result"
    }
   ],
   "source": [
    "imcf.var()"
   ]
  },
  {
   "cell_type": "code",
   "execution_count": null,
   "id": "5bbc0035",
   "metadata": {},
   "outputs": [],
   "source": []
  }
 ],
 "metadata": {
  "kernelspec": {
   "display_name": "Python 3 (ipykernel)",
   "language": "python",
   "name": "python3"
  },
  "language_info": {
   "codemirror_mode": {
    "name": "ipython",
    "version": 3
   },
   "file_extension": ".py",
   "mimetype": "text/x-python",
   "name": "python",
   "nbconvert_exporter": "python",
   "pygments_lexer": "ipython3",
   "version": "3.11.4"
  }
 },
 "nbformat": 4,
 "nbformat_minor": 5
}
