{
 "cells": [
  {
   "cell_type": "markdown",
   "metadata": {
    "id": "M_ltg9wGxKZl"
   },
   "source": [
    "# Lecture, analyse et visualisation d'images radar à synthèse d'ouverture\n",
    "\n",
    "Une série multi-temporelle d'images acquises sur la même zone vous sont mises à disposition. La valeur stockée dans chaque pixel est un nombre complexe *z*:\n",
    "$$\n",
    "z = a+jb = Ae^{j\\phi}\n",
    "$$\n",
    "où $A$ représente l'amplitude et $\\phi$ la phase. La phase d'une image étant uniformement distribuée, elle n'apporte pas d'information. On ne s'intéressera donc qu'à l'amplitude (on peut ici utiliser la fonction `numpy.abs`).\n",
    "\n",
    "D'abord, on importe le fichier python *mvalab.py*, qui contient des fonctions qui permettent la lecture des images SAR.\n"
   ]
  },
  {
   "cell_type": "code",
   "execution_count": null,
   "metadata": {
    "colab": {
     "base_uri": "https://localhost:8080/"
    },
    "id": "9mebbwjZwrrK",
    "outputId": "9ed0309b-fde1-4566-e370-e820388d9e12"
   },
   "outputs": [],
   "source": [
    "!wget https://perso.telecom-paristech.fr/dalsasso/TPSAR/mvalab.py"
   ]
  },
  {
   "cell_type": "code",
   "execution_count": null,
   "metadata": {
    "id": "snFDFLoUyZhM"
   },
   "outputs": [],
   "source": [
    "import mvalab\n",
    "import numpy as np\n",
    "import matplotlib.pyplot as plt\n",
    "from datetime import datetime\n",
    "import math  as mt\n",
    "from skimage import color\n",
    "import matplotlib.colors as mcolors\n",
    "import matplotlib.dates as mdates"
   ]
  },
  {
   "cell_type": "code",
   "execution_count": null,
   "metadata": {
    "id": "l9-Rq5d2zA30"
   },
   "outputs": [],
   "source": [
    "def visusar(image,threshold=None):\n",
    "    if threshold == None:\n",
    "      threshold = np.mean(image)+3*np.std(image)\n",
    "    image = np.clip(image,0,threshold)\n",
    "    image = image/threshold*255\n",
    "    plt.figure(figsize=(12,12))\n",
    "    plt.imshow(image,cmap='gray')\n",
    "    plt.show()"
   ]
  },
  {
   "cell_type": "code",
   "execution_count": null,
   "metadata": {
    "colab": {
     "base_uri": "https://localhost:8080/"
    },
    "id": "h0WC3FJKzoGH",
    "outputId": "45b5c96f-62d6-41cb-f492-c82671e19e07"
   },
   "outputs": [],
   "source": [
    "# 21 images capturées sur Paris par le satellite allemand TerraSAR-X entre 2009-01-24 and 2010-11-26 sont également disponibles\n",
    "webpage='https://perso.telecom-paristech.fr/dalsasso/TPSAR/paris/'\n",
    "image='PileiEiffeljavelRECALZ4RECSP.IMA'\n",
    "im_slc_tsx_paris_liste=mvalab.imz2mat(webpage+image)\n",
    "im_tsx_paris = im_slc_tsx_paris_liste[0]\n",
    "im_abs_tsx_paris = np.abs(im_tsx_paris)"
   ]
  },
  {
   "cell_type": "code",
   "execution_count": null,
   "metadata": {
    "colab": {
     "base_uri": "https://localhost:8080/"
    },
    "id": "9wbZJb6kKAXh",
    "outputId": "a9694bf5-70bb-403a-e993-fff4415794ef"
   },
   "outputs": [],
   "source": [
    "m,n,k=im_abs_tsx_paris.shape # 21 images (dates), chacune de taille 2048x2048 pixels\n",
    "m,n,k"
   ]
  },
  {
   "cell_type": "code",
   "execution_count": null,
   "metadata": {
    "colab": {
     "base_uri": "https://localhost:8080/",
     "height": 682
    },
    "id": "GxxLgssNKchk",
    "outputId": "f30dc3c6-3ade-4e9a-e6f7-cbc73af261cb"
   },
   "outputs": [],
   "source": [
    "# si on affiche toute la dynamique, l'image apparaît peu contrastée et seulement quelques points ressortent (très forts rétrodiffuseurs)\n",
    "plt.figure(figsize=(8,8))\n",
    "plt.imshow((im_abs_tsx_paris[:,:,0]),cmap='gray')\n",
    "plt.show()"
   ]
  },
  {
   "cell_type": "code",
   "execution_count": null,
   "metadata": {
    "colab": {
     "background_save": true,
     "base_uri": "https://localhost:8080/",
     "height": 989
    },
    "id": "Abbf_F8gJsYk",
    "outputId": "3753feeb-af9f-4c1e-9e00-c8506ca0e591"
   },
   "outputs": [],
   "source": [
    "# on visualise la première (index 0) et la cinquème (index 4) date de la pile\n",
    "visusar((im_abs_tsx_paris[:,:,0]))\n",
    "visusar((im_abs_tsx_paris[:,:,4]))"
   ]
  },
  {
   "cell_type": "markdown",
   "metadata": {
    "id": "xx_ftn95zXJl"
   },
   "source": [
    "Lorsq'on visualise plusieurs images de la même pile, il est important de les afficher avec la même dynamique. On peut donc estimer le seuil pour une image et l'imposer aux autres dates de la même série multitemporelle. Ici, on choisit comme référence la première date."
   ]
  },
  {
   "cell_type": "code",
   "execution_count": null,
   "metadata": {
    "colab": {
     "background_save": true
    },
    "id": "QEqkOduCzQwW",
    "outputId": "8e05d79b-3d34-48bf-a250-748973b06748"
   },
   "outputs": [],
   "source": [
    "seuil = np.mean(im_abs_tsx_paris[:,:,0])+3*np.std(im_abs_tsx_paris[:,:,0])\n",
    "visusar(im_abs_tsx_paris[:,:,0],seuil)\n",
    "visusar(im_abs_tsx_paris[:,:,4],seuil)"
   ]
  },
  {
   "cell_type": "code",
   "execution_count": null,
   "metadata": {
    "id": "griqab-qTq4F"
   },
   "outputs": [],
   "source": [
    "import imageio\n",
    "!mkdir img\n",
    "seuil = np.mean(im_abs_tsx_paris[:,:,0])+3*np.std(im_abs_tsx_paris[:,:,0])\n",
    "def create_frame(t):\n",
    "    fig = plt.figure(figsize=(12, 12))\n",
    "    image = np.clip(im_abs_tsx_paris[:,:,t],0,seuil)\n",
    "    image = image/seuil*255\n",
    "    plt.imshow(image,cmap='gray')\n",
    "    plt.savefig(f'./img/img_{t}.png',\n",
    "                transparent = False,\n",
    "                facecolor = 'white'\n",
    "               )\n",
    "    plt.close()\n",
    "\n",
    "for t in range(21):\n",
    "    create_frame(t)\n",
    "frames = []\n",
    "for t in range(21):\n",
    "    image = imageio.v2.imread(f'./img/img_{t}.png')\n",
    "    frames.append(image)\n",
    "\n",
    "imageio.mimsave('./serie.gif', # output gif\n",
    "                frames,          # array of input frames\n",
    "                fps = 5)         # optional: frames per second"
   ]
  },
  {
   "cell_type": "code",
   "execution_count": null,
   "metadata": {
    "colab": {
     "background_save": true
    },
    "id": "WMiOptqUZpCP",
    "outputId": "7af2ab2e-d102-4df4-92ff-a1220bec0f57"
   },
   "outputs": [],
   "source": [
    "from IPython.display import Image\n",
    "Image(open('./serie.gif','rb').read())"
   ]
  },
  {
   "cell_type": "code",
   "execution_count": null,
   "metadata": {
    "colab": {
     "background_save": true
    },
    "id": "cWVSG6_aM0YJ"
   },
   "outputs": [],
   "source": [
    "#les dates considérées\n",
    "dates_str = [\n",
    "    'TSX-1_A_20090124', 'TSX-1_A_20090204', 'TSX-1_A_20090215', 'TSX-1_A_20090309', 'TSX-1_A_20090320',\n",
    "    'TSX-1_A_20090411', 'TSX-1_A_20090422', 'TSX-1_A_20090503', 'TSX-1_A_20090514', 'TSX-1_A_20090525',\n",
    "    'TSX-1_A_20100111', 'TSX-1_A_20100122', 'TSX-1_A_20100202', 'TSX-1_A_20100213', 'TSX-1_A_20100224',\n",
    "    'TSX-1_A_20100307', 'TSX-1_A_20100409', 'TSX-1_A_20100603', 'TSX-1_A_20100614', 'TDX-1_A_20101115',\n",
    "    'TSX-1_A_20101126'\n",
    "]\n",
    "\n",
    "t = np.array([datetime.strptime(date[8:], \"%Y%m%d\").toordinal() for date in dates_str])"
   ]
  },
  {
   "cell_type": "markdown",
   "metadata": {
    "id": "pjc9G5SLFUee"
   },
   "source": [
    "##Etude de la statistique des Images"
   ]
  },
  {
   "cell_type": "code",
   "execution_count": null,
   "metadata": {
    "colab": {
     "background_save": true
    },
    "id": "sIPSFsHgmS98",
    "outputId": "b9845977-4225-40c0-b4ae-dcc475876dfb"
   },
   "outputs": [],
   "source": [
    "# analyse de l'histogramme de l'amplitude d'une image (première date)\n",
    "from scipy.stats import rayleigh\n",
    "plt.figure()\n",
    "plt.hist(im_abs_tsx_paris[:,:,0].ravel(),bins='auto',density=True,range=[0.,1500], label = \"histogramme de l'image\")\n",
    "plt.title(\"histogramme  d'amplitude\")\n",
    "x = np.linspace(0,1500,1500)\n",
    "\n",
    "hist, bin_edges = np.histogram(im_abs_tsx_paris[:,:,0].ravel(), bins='auto',density = True)\n",
    "m = bin_edges[np.argmax(hist)]\n",
    "plt.axvline(m, color='k', linestyle='dashed', linewidth=1)\n",
    "min_ylim, max_ylim = plt.ylim()\n",
    "plt.text(m, max_ylim * 0.9, 'Mode: {:.2f}'.format(m))\n",
    "rayleigh_pdf = rayleigh(scale =m).pdf(x)\n",
    "plt.plot(rayleigh_pdf, label='distribution de Rayleigh')\n",
    "plt.legend()\n",
    "plt.show()"
   ]
  },
  {
   "cell_type": "code",
   "execution_count": null,
   "metadata": {
    "colab": {
     "background_save": true
    },
    "id": "Fum44QgyvBGv",
    "outputId": "2651cd5d-7659-4768-ac2e-9f8271dae1a0"
   },
   "outputs": [],
   "source": [
    "# analyse de l'histogramme de l'inrensité d'une image (première date)\n",
    "plt.figure()\n",
    "plt.hist((im_abs_tsx_paris[:,:,0]**2).ravel(),bins='auto',density=True,range=[0.,100000], label = \"histogramme de l'image\")\n",
    "plt.title(\"histogramme  d'intensité\")\n",
    "plt.show()"
   ]
  },
  {
   "cell_type": "code",
   "execution_count": null,
   "metadata": {
    "id": "ytxkpna4pCi-"
   },
   "outputs": [],
   "source": [
    "(m,n,k) = im_abs_tsx_paris.shape\n",
    "eps = 1e-16\n",
    "img = np.zeros((m,n,k))\n",
    "m_gamma = np.zeros(k-1)\n",
    "for i in range (1,k):\n",
    "  img[:,:,i] =np.std(im_abs_tsx_paris[:,:,:i+1], axis = 2)/(np.mean(im_abs_tsx_paris[:,:,:i+1], axis = 2) + eps)\n",
    "  m_gamma[i-1] = np.mean(img[:,:,i])"
   ]
  },
  {
   "cell_type": "code",
   "execution_count": null,
   "metadata": {
    "id": "WsEci-YFCjrB"
   },
   "outputs": [],
   "source": [
    "mx = np.max(img[:,:,k-1])\n",
    "plt.hist(img[:,:,k-1].ravel(),bins='auto',density=True,range=[0.,mx])\n",
    "plt.axvline(img[:,:,k-1].mean(), color='k', linestyle='dashed', linewidth=1)\n",
    "min_ylim, max_ylim = plt.ylim()\n",
    "plt.title(\"Histogramme du coefficient de variation\")\n",
    "plt.text(img[:,:,k-1].mean()*1.1, max_ylim*0.9, 'Mean: {:.4f}'.format(img[:,:,k-1].mean()))\n",
    "\n",
    "plt.legend()"
   ]
  },
  {
   "cell_type": "code",
   "execution_count": null,
   "metadata": {
    "id": "AweOoRCKCtwf"
   },
   "outputs": [],
   "source": [
    "plt.plot(np.arange(2,k+1),m_gamma)"
   ]
  },
  {
   "cell_type": "code",
   "execution_count": null,
   "metadata": {
    "colab": {
     "base_uri": "https://localhost:8080/",
     "height": 469
    },
    "id": "-Lw-LrwjGCfI",
    "outputId": "7bac269a-ce69-457d-de1d-1732c98bbc03"
   },
   "outputs": [],
   "source": [
    "A = im_abs_tsx_paris\n",
    "m1 = np.mean(A, axis = 2)\n",
    "m2 = np.mean(A**2, axis = 2)\n",
    "m3 = np.mean(A**3,  axis = 2)\n",
    "m4 = np.mean(A**4, axis = 2)\n",
    "v = 0.25 * (4 * m2**3 - m2**2 *m1**2 + m1**2 *m4 - 4 * m1*m2*m3)/(m1**4*(m2-m1**2))\n",
    "vx = np.max(v)\n",
    "plt.hist(v.ravel(),bins='auto',density=True,range=[0,1])\n",
    "plt.axvline(v.mean(), color='k', linestyle='dashed', linewidth=1)\n",
    "min_ylim, max_ylim = plt.ylim()\n",
    "plt.text(v.mean(), max_ylim*0.9, 'Mean: {:.4f}'.format(v.mean()))\n",
    "\n",
    "# histv, bin_edgesv = np.histogram(v.ravel(), bins='auto',density = True)\n",
    "# mv = bin_edgesv[np.argmax(histv)]\n",
    "# plt.axvline(mv, color='k', linestyle='dashed', linewidth=1)\n",
    "# min_ylim, max_ylim = plt.ylim()\n",
    "# plt.text(mv, max_ylim * 0.8, 'Mode: {:.2f}'.format(mv))\n",
    "\n",
    "plt.title(\"Histogramme de N x la variance du coefficient de variation\")"
   ]
  },
  {
   "cell_type": "code",
   "execution_count": null,
   "metadata": {
    "id": "TKw0p5r4Qknx"
   },
   "outputs": [],
   "source": [
    "image_moy = np.mean(im_abs_tsx_paris, axis = 2)"
   ]
  },
  {
   "cell_type": "code",
   "execution_count": null,
   "metadata": {
    "colab": {
     "base_uri": "https://localhost:8080/",
     "height": 447
    },
    "id": "UYmQkB3bC9Nz",
    "outputId": "c2c9fea6-5e02-4e76-b8c8-07794333e810"
   },
   "outputs": [],
   "source": [
    "(m,n,k) = im_abs_tsx_paris.shape\n",
    "d = 64\n",
    "n1 = n//d\n",
    "m1 = m//d\n",
    "pas  = 8\n",
    "L = []\n",
    "i0,j0 = 0,0\n",
    "min_L = 1e6\n",
    "window = np.zeros((m1,n1))\n",
    "for i in range(0,m-m1,2*pas):\n",
    "  for j in range (0,n-n1,2*pas):\n",
    "      window = image_moy[i:i+m1,j:j+n1]\n",
    "      s = np.std(window)\n",
    "      if(s < min_L):\n",
    "        min_L = s;\n",
    "        i0 = i;\n",
    "        j0 = j;\n",
    "      L.append(s)\n",
    "plt.plot(L)"
   ]
  },
  {
   "cell_type": "code",
   "execution_count": null,
   "metadata": {
    "colab": {
     "base_uri": "https://localhost:8080/"
    },
    "id": "NYCTFMe6MxQv",
    "outputId": "391cffc3-3670-4828-84d5-bdf1507c51c2"
   },
   "outputs": [],
   "source": [
    "(np.argmin(L),np.min(L))"
   ]
  },
  {
   "cell_type": "code",
   "execution_count": null,
   "metadata": {
    "colab": {
     "base_uri": "https://localhost:8080/"
    },
    "id": "YakgIY7zNfD1",
    "outputId": "c0dc40ac-45c1-4f96-bc96-40da37e0d377"
   },
   "outputs": [],
   "source": [
    "(i0,j0)"
   ]
  },
  {
   "cell_type": "code",
   "execution_count": null,
   "metadata": {
    "id": "7w_0o80NOWBn"
   },
   "outputs": [],
   "source": [
    "seuil = np.mean(im_abs_tsx_paris[:,:,0])+3*np.std(im_abs_tsx_paris[:,:,0])\n",
    "image = np.clip(im_abs_tsx_paris[:,:,k-1],0,seuil)\n",
    "image = image/seuil\n",
    "image_col = np.zeros((m,n,3))\n",
    "image_col[:,:,0] = image\n",
    "image_col[:,:,1] = image\n",
    "image_col[:,:,2] = image\n",
    "image_col[i0:i0+ m1, j0: j0 + n1,0] = 1\n",
    "image_col[i0:i0+ m1, j0: j0 + n1,1] = 0\n",
    "image_col[i0:i0+ m1, j0: j0 + n1,2] = 0"
   ]
  },
  {
   "cell_type": "code",
   "execution_count": null,
   "metadata": {
    "colab": {
     "base_uri": "https://localhost:8080/",
     "height": 1000
    },
    "id": "1Y--jRgMO6oL",
    "outputId": "41c9fe1b-f098-47a2-9301-45930316ed2a"
   },
   "outputs": [],
   "source": [
    "plt.figure(figsize=(12,12))\n",
    "plt.imshow(image_col)"
   ]
  },
  {
   "cell_type": "code",
   "execution_count": null,
   "metadata": {
    "colab": {
     "base_uri": "https://localhost:8080/",
     "height": 452
    },
    "id": "hh8Ot5h5GTGA",
    "outputId": "9ce9b3cb-f87f-4ed2-9f42-927d52a13fda"
   },
   "outputs": [],
   "source": [
    "plt.figure()\n",
    "plt.hist(im_abs_tsx_paris[i0:i0+ m1, j0: j0 + n1,0].ravel(),bins='auto',density=True,range=[0.,300], label = \"histogramme d'une zone homogène\")\n",
    "plt.title(\"histogramme d'amplitude\")\n",
    "x = np.linspace(0,300,300)\n",
    "\n",
    "hist, bin_edges = np.histogram(im_abs_tsx_paris[i0:i0+ m1, j0: j0 + n1,0].ravel(), bins='auto',density = True)\n",
    "m = bin_edges[np.argmax(hist)]\n",
    "plt.axvline(m, color='k', linestyle='dashed', linewidth=1)\n",
    "min_ylim, max_ylim = plt.ylim()\n",
    "plt.text(m, max_ylim * 0.9, 'Mode: {:.2f}'.format(m))\n",
    "rayleigh_pdf = rayleigh(scale = m).pdf(x)\n",
    "plt.plot(rayleigh_pdf, label='distribution de Rayleigh')\n",
    "plt.legend()\n",
    "plt.show()"
   ]
  },
  {
   "cell_type": "code",
   "execution_count": null,
   "metadata": {
    "colab": {
     "base_uri": "https://localhost:8080/",
     "height": 453
    },
    "id": "Bqijs6HCukAB",
    "outputId": "8c2a1935-d16a-44dc-9f68-7617e9fbafed"
   },
   "outputs": [],
   "source": [
    "plt.figure()\n",
    "plt.hist((im_abs_tsx_paris[i0:i0+ m1, j0: j0 + n1,0]**2).ravel(),bins='auto',density=True,range=[0.,20000], label = \"histogramme d'une zone homogène\")\n",
    "plt.title(\"histogramme d'intensité\")\n",
    "\n",
    "plt.show()"
   ]
  },
  {
   "cell_type": "code",
   "execution_count": null,
   "metadata": {
    "id": "5hQJkxzQS0fp"
   },
   "outputs": [],
   "source": [
    "img_stable = img[i0:i0+ m1, j0: j0 + n1,:]\n",
    "m_gamma_stable = np.zeros(k-1)\n",
    "std_gamma_stable = np.zeros(k-1)\n",
    "for i in range (1,k):\n",
    "  m_gamma_stable[i-1] = np.mean(img_stable[:,:,i])"
   ]
  },
  {
   "cell_type": "code",
   "execution_count": null,
   "metadata": {
    "colab": {
     "base_uri": "https://localhost:8080/",
     "height": 447
    },
    "id": "oDqUsc8RewfC",
    "outputId": "a24403f5-9adb-473c-ad3a-2f09268c9c3f"
   },
   "outputs": [],
   "source": [
    "plt.plot(np.arange(2,k+1),m_gamma_stable)"
   ]
  },
  {
   "cell_type": "code",
   "execution_count": null,
   "metadata": {
    "colab": {
     "base_uri": "https://localhost:8080/"
    },
    "id": "3cgv7RvsfIWh",
    "outputId": "fbdeb925-ac17-413a-d5f3-606e31e353bf"
   },
   "outputs": [],
   "source": [
    "m_gamma_stable[k-2]"
   ]
  },
  {
   "cell_type": "code",
   "execution_count": null,
   "metadata": {
    "colab": {
     "base_uri": "https://localhost:8080/"
    },
    "id": "ouFY_8MKeufs",
    "outputId": "3c6167be-9f81-47c3-8e79-a0699ca1eebb"
   },
   "outputs": [],
   "source": [
    "A = img_stable\n",
    "m1 = np.mean(A, axis = 2)\n",
    "m2 = np.mean(A**2, axis = 2)\n",
    "m3 = np.mean(A**3,  axis = 2)\n",
    "m4 = np.mean(A**4, axis = 2)\n",
    "v = 0.25 * (4 * m2**3 - m2**2 *m1**2 + m1**2 *m4 - 4 * m1*m2*m3)/(m1**4*(m2-m1**2))\n",
    "np.mean(v)"
   ]
  },
  {
   "cell_type": "markdown",
   "metadata": {
    "id": "WhN1UVaA2cu2"
   },
   "source": [
    "\n",
    "###**Débruitage temporel**\n",
    "\n",
    "On a fixé la taille de la fenêtre mobile à 3.\n",
    "\n",
    "On remarque que si on augmente la taille de la fenêtre, la qualité de l'image s'améliore, mais on détecte moins les changements rapides."
   ]
  },
  {
   "cell_type": "code",
   "execution_count": null,
   "metadata": {
    "id": "VcG4cHS5dj1Q"
   },
   "outputs": [],
   "source": [
    "#débruitage temporel\n",
    "def temporal_denoising(img, window_size = 3):\n",
    "  m,n,k=img.shape\n",
    "\n",
    "  x_image = img.real\n",
    "  y_image = img.imag\n",
    "\n",
    "  x_debruite = np.zeros_like(img)\n",
    "  y_debruite = np.zeros_like(img)\n",
    "  for i in range(k):\n",
    "      start_idx = max(0, i - window_size // 2)\n",
    "      end_idx = min(k, i + window_size // 2 + 1)\n",
    "      xwindow = x_image[:, :, start_idx:end_idx]\n",
    "      ywindow = y_image[:, :, start_idx:end_idx]\n",
    "      x_debruite[:, :, i] = np.mean(xwindow, axis=2)\n",
    "      y_debruite[:, :, i] = np.mean(ywindow, axis=2)\n",
    "  return (x_debruite + 1j *y_debruite)"
   ]
  },
  {
   "cell_type": "code",
   "execution_count": null,
   "metadata": {
    "id": "DdH37tJRtE6c"
   },
   "outputs": [],
   "source": [
    "debruitees = np.abs(temporal_denoising(im_slc_tsx_paris_liste[0]))"
   ]
  },
  {
   "cell_type": "code",
   "execution_count": null,
   "metadata": {
    "colab": {
     "base_uri": "https://localhost:8080/",
     "height": 989
    },
    "id": "JfsutJ_KVRdk",
    "outputId": "f6fae219-34fc-4e23-d7c7-c4d41ff25b08"
   },
   "outputs": [],
   "source": [
    "visusar(debruitees[:,:,0])"
   ]
  },
  {
   "cell_type": "markdown",
   "metadata": {
    "id": "Gk1fjbVZI4pv"
   },
   "source": [
    "###**Debruitage spatial**\n",
    "Dans cette partie, nous allons considérer une portion de l'image d'indice 0"
   ]
  },
  {
   "cell_type": "code",
   "execution_count": null,
   "metadata": {
    "id": "U2P5XtJwNlh2"
   },
   "outputs": [],
   "source": [
    "x_start, x_end = 1150, 1550   # Région en X\n",
    "y_start, y_end = 1000, 1400   # Région en Y"
   ]
  },
  {
   "cell_type": "code",
   "execution_count": null,
   "metadata": {
    "id": "m3J58IKCOWok"
   },
   "outputs": [],
   "source": [
    "import matplotlib.patches as patches\n",
    "def visusar1(image,x_start = x_start, x_end = x_end, y_start = y_start, y_end = y_end, threshold=None):\n",
    "    if threshold is None:\n",
    "        threshold = np.mean(image) + 3 * np.std(image)\n",
    "    image = np.clip(image, 0, threshold)\n",
    "    image = image / threshold * 255\n",
    "    plt.figure(figsize=(12, 12))\n",
    "    plt.imshow(image, cmap='gray')\n",
    "    roi_rectangle = patches.Rectangle((y_start, x_start), y_end - y_start, x_end - x_start,\n",
    "                                      linewidth=2, edgecolor='r', facecolor='none')\n",
    "    # Ajouter le rectangle à l'image\n",
    "    plt.gca().add_patch(roi_rectangle)\n",
    "\n",
    "    plt.show()"
   ]
  },
  {
   "cell_type": "code",
   "execution_count": null,
   "metadata": {
    "colab": {
     "base_uri": "https://localhost:8080/",
     "height": 989
    },
    "id": "n33ftKEsPF0J",
    "outputId": "b94ef8cf-ac93-4131-fc2d-80fa2152cb56"
   },
   "outputs": [],
   "source": [
    "image0 = im_abs_tsx_paris[:, :, 0]\n",
    "visusar1(image0)"
   ]
  },
  {
   "cell_type": "code",
   "execution_count": null,
   "metadata": {
    "id": "SX6eXYIdS0M9"
   },
   "outputs": [],
   "source": [
    "imc = im_tsx_paris[x_start:x_end, y_start:y_end,0]"
   ]
  },
  {
   "cell_type": "code",
   "execution_count": null,
   "metadata": {
    "colab": {
     "base_uri": "https://localhost:8080/",
     "height": 989
    },
    "id": "4kE6ul_LPSe1",
    "outputId": "6e69bec5-b203-435a-e7d9-71d3eb8fb0c4"
   },
   "outputs": [],
   "source": [
    "im_abs = image0[x_start:x_end, y_start:y_end]\n",
    "# Afficher l'image zoomée\n",
    "visusar(im_abs)"
   ]
  },
  {
   "cell_type": "code",
   "execution_count": null,
   "metadata": {
    "colab": {
     "base_uri": "https://localhost:8080/"
    },
    "id": "AXCWNENGlI0M",
    "outputId": "a84a275a-565d-407d-8245-851ed1bc46b8"
   },
   "outputs": [],
   "source": [
    "np.std(im_abs**2)"
   ]
  },
  {
   "cell_type": "code",
   "execution_count": null,
   "metadata": {
    "id": "_A8waNQ8_KJt"
   },
   "outputs": [],
   "source": [
    "from scipy import ndimage\n",
    "def sub_visusar(image,filter,threshold=None):\n",
    "  l = [3,5,7]\n",
    "  fig,ax = plt.subplots(1,3, figsize = (15,15))\n",
    "  for i in range (3):\n",
    "    imdeb = filter(img = image, window_size = l[i])\n",
    "    if threshold == None:\n",
    "      threshold = np.mean(imdeb)+3*np.std(imdeb)\n",
    "    imdeb = np.clip(imdeb,0,threshold)\n",
    "    imdeb = imdeb/threshold*255\n",
    "    ax[i].imshow(imdeb,cmap='gray')\n",
    "    ax[i].set_title(\"filtre\" +str(l[i])+\"*\"+str(l[i]))\n"
   ]
  },
  {
   "cell_type": "markdown",
   "metadata": {
    "id": "eEag3O7aSI9t"
   },
   "source": [
    "####**Filtre Gaussien**"
   ]
  },
  {
   "cell_type": "code",
   "execution_count": null,
   "metadata": {
    "colab": {
     "base_uri": "https://localhost:8080/",
     "height": 389
    },
    "id": "ZkOD-7fWSdqp",
    "outputId": "5496417a-c1cb-4f3d-d7ed-8a63bca80d6d"
   },
   "outputs": [],
   "source": [
    "from scipy.ndimage import gaussian_filter\n",
    "def gaussian(img, window_size = 3):\n",
    "  x = img.real\n",
    "  y = img.imag\n",
    "  sigma = (window_size - 1)/8\n",
    "  x_deb = gaussian_filter(x, sigma)\n",
    "  y_deb = gaussian_filter(y, sigma)\n",
    "  img_gauss= np.abs(x_deb + 1j *y_deb)\n",
    "  return img_gauss\n",
    "\n",
    "sub_visusar(imc, gaussian)"
   ]
  },
  {
   "cell_type": "code",
   "execution_count": null,
   "metadata": {
    "colab": {
     "base_uri": "https://localhost:8080/",
     "height": 1000
    },
    "id": "JNg_gpIf5DNd",
    "outputId": "bf4de918-9311-4e5b-f312-498c5fe34628"
   },
   "outputs": [],
   "source": [
    "visusar(gaussian(imc, window_size = 3))\n",
    "visusar(gaussian(imc, window_size = 5))\n",
    "visusar(gaussian(imc, window_size = 7))"
   ]
  },
  {
   "cell_type": "markdown",
   "metadata": {
    "id": "Dm-yCHOuNQPr"
   },
   "source": [
    "####**Filtre Uniforme**"
   ]
  },
  {
   "cell_type": "code",
   "execution_count": null,
   "metadata": {
    "colab": {
     "base_uri": "https://localhost:8080/",
     "height": 389
    },
    "id": "ym-w72AaMfJW",
    "outputId": "a4f7bca9-81e3-4237-db63-38b072ac9a51"
   },
   "outputs": [],
   "source": [
    "from scipy.ndimage import uniform_filter\n",
    "\n",
    "def uniform(img, window_size = 3):\n",
    "  return np.sqrt(uniform_filter(img**2, window_size))\n",
    "\n",
    "sub_visusar(im_abs,uniform)"
   ]
  },
  {
   "cell_type": "code",
   "execution_count": null,
   "metadata": {
    "colab": {
     "base_uri": "https://localhost:8080/"
    },
    "id": "CXUIgD5sx21v",
    "outputId": "aa3fc379-0cb7-47e2-940b-01515ac6db00"
   },
   "outputs": [],
   "source": [
    "uniform(im_abs, window_size = 3).shape"
   ]
  },
  {
   "cell_type": "code",
   "execution_count": null,
   "metadata": {
    "colab": {
     "base_uri": "https://localhost:8080/",
     "height": 1000
    },
    "id": "RuqUt8uc5pZq",
    "outputId": "6e45edab-7a73-47b1-c882-2c05d0812339"
   },
   "outputs": [],
   "source": [
    "visusar(uniform(im_abs, window_size = 3))\n",
    "visusar(uniform(im_abs, window_size = 5))\n",
    "visusar(uniform(im_abs, window_size = 7))"
   ]
  },
  {
   "cell_type": "markdown",
   "metadata": {
    "id": "MsDrh41saC5F"
   },
   "source": [
    "###**filtre median**"
   ]
  },
  {
   "cell_type": "code",
   "execution_count": null,
   "metadata": {
    "colab": {
     "base_uri": "https://localhost:8080/",
     "height": 389
    },
    "id": "0rGwNhO4aPVM",
    "outputId": "3fd698e0-4b30-4680-f0dd-710fee40262e"
   },
   "outputs": [],
   "source": [
    "from scipy.ndimage import median_filter\n",
    "def median(img, window_size = 3):\n",
    "  return np.sqrt(median_filter(img**2,window_size))\n",
    "\n",
    "sub_visusar(im_abs, median)"
   ]
  },
  {
   "cell_type": "code",
   "execution_count": null,
   "metadata": {
    "colab": {
     "base_uri": "https://localhost:8080/",
     "height": 1000
    },
    "id": "p8dYIW7O57Ec",
    "outputId": "2aaef2cf-8f22-4dc3-c8ed-eb250eb9da2a"
   },
   "outputs": [],
   "source": [
    "visusar(median(im_abs, window_size = 3))\n",
    "visusar(median(im_abs, window_size = 5))\n",
    "visusar(median(im_abs, window_size = 7))"
   ]
  },
  {
   "cell_type": "markdown",
   "metadata": {
    "id": "RxMitzG6cgQC"
   },
   "source": [
    "###**Lee filter**"
   ]
  },
  {
   "cell_type": "code",
   "execution_count": null,
   "metadata": {
    "colab": {
     "base_uri": "https://localhost:8080/",
     "height": 389
    },
    "id": "dJPDY0Owcgh-",
    "outputId": "a692b7e5-1dde-4f38-fbdf-a13171bed467"
   },
   "outputs": [],
   "source": [
    "eps = 1e-6\n",
    "\n",
    "def lee_filter(img, window_size = 3, var_noise = 1):\n",
    "    m,n = img.shape\n",
    "    I = img**2\n",
    "    deb_img = np.zeros_like(img)\n",
    "    for i in range(m):\n",
    "        for j in range(n):\n",
    "            i0 = max(0, i - window_size // 2)\n",
    "            i1 = min(m, i + window_size // 2 + 1)\n",
    "            j0 = max(0, j - window_size // 2)\n",
    "            j1 = min(n, j + window_size // 2 + 1)\n",
    "            window = I[i0:i1, j0:j1]\n",
    "            mean_local = np.mean(window)\n",
    "            var_local =  (np.var(window) - var_noise*mean_local**2)/(var_noise + 1)\n",
    "            var_local = max(0, var_local)\n",
    "            w = var_local / (var_local + var_noise *mean_local**2 + eps )\n",
    "            deb_img[i,j] = mean_local +  w *(I[i,j] - mean_local)\n",
    "\n",
    "    return np.sqrt(deb_img)\n",
    "\n",
    "sub_visusar(im_abs, lee_filter)"
   ]
  },
  {
   "cell_type": "code",
   "execution_count": null,
   "metadata": {
    "colab": {
     "base_uri": "https://localhost:8080/",
     "height": 1000
    },
    "id": "nMhULxxrq0Kq",
    "outputId": "fc203721-f62b-474f-a12c-dccb61ee22ba"
   },
   "outputs": [],
   "source": [
    "visusar(lee_filter(im_abs, window_size = 3))\n",
    "visusar(lee_filter(im_abs, window_size = 5))\n",
    "visusar(lee_filter(im_abs, window_size = 7))"
   ]
  },
  {
   "cell_type": "markdown",
   "metadata": {
    "id": "tmrOBmGeeFck"
   },
   "source": [
    "###**Frost filter**"
   ]
  },
  {
   "cell_type": "code",
   "execution_count": null,
   "metadata": {
    "colab": {
     "base_uri": "https://localhost:8080/",
     "height": 389
    },
    "id": "0tKHX47L0A-0",
    "outputId": "324cc13f-f02d-4f4b-e85b-a4445e80013e"
   },
   "outputs": [],
   "source": [
    "def cv(img):\n",
    "    return np.std(img) / (np.mean(img) + eps)\n",
    "\n",
    "def frost_filter(img, window_size=3, k2 = 0.5):\n",
    "    m, n = img.shape\n",
    "    I = img**2\n",
    "    deb_img = np.zeros_like(img)\n",
    "\n",
    "    for i in range(m):\n",
    "        for j in range(n):\n",
    "            i0 = max(0, i - window_size // 2)\n",
    "            i1 = min(m, i + window_size // 2 + 1)\n",
    "            j0 = max(0, j - window_size // 2)\n",
    "            j1 = min(n, j + window_size // 2 + 1)\n",
    "            window = I[i0:i1, j0:j1]\n",
    "            alpha = k2 * cv(window)\n",
    "            k1 = 0\n",
    "\n",
    "            for x in range(i0, i1):\n",
    "                for y in range(j0, j1):\n",
    "                    wij = alpha * np.exp(-alpha * (np.abs(x - i) + np.abs(y - j)))\n",
    "                    deb_img[i, j] += wij * I[x, y]\n",
    "                    k1 += wij\n",
    "\n",
    "            deb_img[i, j] /= (k1 + eps)\n",
    "\n",
    "    return np.sqrt(deb_img)\n",
    "sub_visusar(im_abs, frost_filter)"
   ]
  },
  {
   "cell_type": "code",
   "execution_count": null,
   "metadata": {
    "colab": {
     "base_uri": "https://localhost:8080/",
     "height": 1000
    },
    "id": "axyyLyMwhpR3",
    "outputId": "cc66fcb4-f3c1-475b-dfa7-5fd9ea91d72b"
   },
   "outputs": [],
   "source": [
    "visusar(frost_filter(im_abs, window_size = 3))\n",
    "visusar(frost_filter(im_abs, window_size = 5))\n",
    "visusar(frost_filter(im_abs, window_size = 7))"
   ]
  },
  {
   "cell_type": "markdown",
   "metadata": {
    "id": "49nRfCwUfo28"
   },
   "source": [
    "###**Non local means**"
   ]
  },
  {
   "cell_type": "code",
   "execution_count": null,
   "metadata": {
    "colab": {
     "base_uri": "https://localhost:8080/",
     "height": 389
    },
    "id": "nGfehC5afoMO",
    "outputId": "97f8e668-6ceb-4c41-c135-53c3c66bab00"
   },
   "outputs": [],
   "source": [
    "eps = 1e-6\n",
    "\n",
    "def non_local_means(img, window_size = 3, big_window_size = 50):\n",
    "  m,n = img.shape\n",
    "  I = img**2\n",
    "  h = np.std(I)/(10 * window_size)\n",
    "  deb_img = np.zeros_like(img)\n",
    "  b = uniform_filter(I, window_size)\n",
    "  for i in range(m):\n",
    "    for j in range(n):\n",
    "\n",
    "      i0 = max(0, i - big_window_size // 2)\n",
    "      i1 = min(m, i + big_window_size // 2 + 1)\n",
    "      j0 = max(0, j - big_window_size // 2)\n",
    "      j1 = min(n, j + big_window_size // 2 + 1)\n",
    "\n",
    "      f = np.exp((-np.abs(b[i,j] - b[i0:i1,j0:j1])**2)/(h**2))\n",
    "      deb_img[i,j] = np.sum(f * I[i0:i1,j0:j1])/(np.sum(f) + eps)\n",
    "  return np.sqrt(deb_img)\n",
    "\n",
    "\n",
    "sub_visusar(im_abs, non_local_means)"
   ]
  },
  {
   "cell_type": "code",
   "execution_count": null,
   "metadata": {
    "colab": {
     "base_uri": "https://localhost:8080/",
     "height": 1000
    },
    "id": "_WqHhzrckHkT",
    "outputId": "cdc72811-489c-41d3-bb00-8c0b70fc2034"
   },
   "outputs": [],
   "source": [
    "visusar(non_local_means(im_abs, window_size = 3))\n",
    "visusar(non_local_means(im_abs, window_size = 5))\n",
    "visusar(non_local_means(im_abs, window_size = 7))"
   ]
  },
  {
   "cell_type": "markdown",
   "metadata": {
    "id": "EeT7iQl3j_WX"
   },
   "source": []
  },
  {
   "cell_type": "code",
   "execution_count": null,
   "metadata": {
    "id": "KatjenFqj_ud"
   },
   "outputs": [],
   "source": [
    "def EQM(img, deb_img):\n",
    "  I = img**2\n",
    "  I_deb = deb_img**2\n",
    "  return np.mean((I- I_deb)**2)\n",
    "\n",
    "def PSNR(img, deb_img):\n",
    "  I = img**2\n",
    "  return 10 * np.log10(np.max(I)**2/EQM(img, deb_img) )\n",
    "\n",
    "def speckle_suppression_index(img, deb_img):\n",
    "  I = img**2\n",
    "  I_deb = deb_img**2\n",
    "  return cv(I_deb)/cv(I)\n",
    "\n",
    "def equivalent_number_of_looks(img):\n",
    "  I = img**2\n",
    "  return 1/cv(I)**2\n",
    "\n",
    "def speckle_mean_index(img, deb_img):\n",
    "  I = img**2\n",
    "  I_deb = deb_img**2\n",
    "  std_deb = np.std(I_deb)\n",
    "  std_noisy = np.std(I)\n",
    "  mean_deb = np.mean(I_deb)\n",
    "  mean_noisy = np.mean(I)\n",
    "  Q=(1 + np.abs(mean_noisy - mean_deb))\n",
    "  return  Q*std_deb / std_noisy\n",
    "\n",
    "def structural_similarity_index_measure (img, deb_img):\n",
    "  I = img**2\n",
    "  I_deb = deb_img**2\n",
    "  sigmaxy = np.cov(I.ravel(), I_deb.ravel())[0,1]\n",
    "  L = np.max(I)\n",
    "  C1 = (0.01 * L)**2\n",
    "  C2 = (0.03 * L)**2\n",
    "  varx = np.var(I)\n",
    "  vary = np.var(I_deb)\n",
    "  mux = np.mean(I)\n",
    "  muy = np.mean(I_deb)\n",
    "  return (2*mux*muy + C1)*(2*sigmaxy + C2)/((mux**2 + muy**2 + C1)*(varx + vary + C2))"
   ]
  },
  {
   "cell_type": "code",
   "execution_count": null,
   "metadata": {
    "id": "CJUS6zUFNXeY"
   },
   "outputs": [],
   "source": [
    "def filter3(image,filter,threshold=None):\n",
    "  l = [3,5,7]\n",
    "  m,n= image.shape\n",
    "  result = np.zeros((m,n,3))\n",
    "  for i in range (3):\n",
    "    deb_img = filter(img = image, window_size = l[i])\n",
    "    result[:,:,i] = deb_img\n",
    "  return result"
   ]
  },
  {
   "cell_type": "code",
   "execution_count": null,
   "metadata": {
    "id": "paS3P7lsN8O4"
   },
   "outputs": [],
   "source": [
    "filters_list = [gaussian, uniform, median, lee_filter, frost_filter, non_local_means]"
   ]
  },
  {
   "cell_type": "code",
   "execution_count": null,
   "metadata": {
    "id": "4IYAxoHIXzU1"
   },
   "outputs": [],
   "source": [
    "filters = [\n",
    "    \"Gaussian 3*3\", \"Gaussian 5*5\", \"Gaussian 7*7\",\n",
    "    \"Uniform 3*3\", \"Uniform 5*5\", \"Uniform 7*7\",\n",
    "    \"Median 3*3\", \"Median 5*5\", \"Median 7*7\",\n",
    "    \"Lee 3*3\", \"Lee 5*5\", \"Lee 7*7\",\n",
    "    \"Frost 3*3\", \"Frost 5*5\", \"Frost 7*7\",\n",
    "    \"NLM 3*3\", \"NLM 5*5\", \"NLM 7*7\"\n",
    "]"
   ]
  },
  {
   "cell_type": "code",
   "execution_count": null,
   "metadata": {
    "id": "D8EWlTt5EGAc"
   },
   "outputs": [],
   "source": [
    "filter_result = [filter3(im_abs,gaussian)[:,:,j]  for j in range (3)]+[filter3(im_abs,filters_list[i])[:,:,j] for i in range(1,len(filters_list)) for j in range (3)]"
   ]
  },
  {
   "cell_type": "code",
   "execution_count": null,
   "metadata": {
    "id": "jXyhFJgo4gxa"
   },
   "outputs": [],
   "source": [
    "PSNR_values = [PSNR(im_abs, filter) for filter in filter_result]\n",
    "SSI_values = [speckle_suppression_index(im_abs, filter) for filter in filter_result]\n",
    "ENL_values = [equivalent_number_of_looks(filter) for filter in filter_result]\n",
    "SMPI_values = [speckle_mean_index(im_abs, filter) for filter in filter_result]\n",
    "SSIM_values = [structural_similarity_index_measure(im_abs, filter) for filter in filter_result]"
   ]
  },
  {
   "cell_type": "code",
   "execution_count": null,
   "metadata": {
    "colab": {
     "base_uri": "https://localhost:8080/",
     "height": 531
    },
    "id": "RuXp3q_JRXXH",
    "outputId": "2aadb959-0c1f-41a4-c81e-a62f60c0bf22"
   },
   "outputs": [],
   "source": [
    "# Diagramme pour PSNR\n",
    "plt.bar(filters, PSNR_values)\n",
    "plt.title('Peak Signal to Noise Ratio (PSNR)')\n",
    "plt.tick_params(axis='x', rotation=90)"
   ]
  },
  {
   "cell_type": "code",
   "execution_count": null,
   "metadata": {
    "colab": {
     "base_uri": "https://localhost:8080/",
     "height": 943
    },
    "id": "fdj_Y4eQRXeR",
    "outputId": "a1f071b8-bb81-4d8e-a15d-6a318fae8377"
   },
   "outputs": [],
   "source": [
    "# Couleurs pour les descripteurs\n",
    "colors = ['#FF9999', '#FFCC99', '#FFFF99', '#CCFF99', '#99FF99', '#99FFCC', '#99FFFF', '#99CCFF', '#9999FF', '#CC99FF', '#FF99FF', '#FF99CC', '#FFCCCC', '#CCCCCC', '#D9D9D9']\n",
    "\n",
    "# Création de la figure avec 4 sous-graphiques\n",
    "fig, axs = plt.subplots(2, 2, figsize=(12, 10))\n",
    "\n",
    "# Diagramme pour SSI\n",
    "axs[0, 0].bar(filters, SSI_values)\n",
    "axs[0, 0].set_title('Speckle Suppression Index (SSI)')\n",
    "axs[0, 0].tick_params(axis='x', rotation=90)\n",
    "\n",
    "# Diagramme pour ENL\n",
    "axs[0, 1].bar(filters, ENL_values)\n",
    "axs[0, 1].set_title('Equivalent Number of Looks (ENL)')\n",
    "axs[0, 1].tick_params(axis='x', rotation=90)\n",
    "\n",
    "# Diagramme pour SMPI\n",
    "axs[1, 0].bar(filters, SMPI_values)\n",
    "axs[1, 0].set_title('Speckle Suppression and Mean Preservation Index (SMPI)')\n",
    "axs[1, 0].tick_params(axis='x', rotation=90)\n",
    "\n",
    "# Diagramme pour SSIM\n",
    "axs[1, 1].bar(filters, SSIM_values)\n",
    "axs[1, 1].set_title('Structural Similarity Index Measure (SSIM)')\n",
    "axs[1, 1].tick_params(axis='x', rotation=90)\n",
    "\n",
    "# Ajustement du layout\n",
    "plt.tight_layout()\n",
    "plt.show()"
   ]
  },
  {
   "cell_type": "code",
   "execution_count": null,
   "metadata": {
    "colab": {
     "base_uri": "https://localhost:8080/",
     "height": 1000
    },
    "id": "gpVFklFUBIzJ",
    "outputId": "907612d2-8227-45f1-a800-f1a7f518a35a"
   },
   "outputs": [],
   "source": [
    "# Diagramme pour SSI\n",
    "plt.bar(filters, SSI_values)\n",
    "plt.title('Speckle Suppression Index (SSI)')\n",
    "plt.tick_params(axis='x', rotation=90)\n",
    "plt.show()\n",
    "# Diagramme pour ENL\n",
    "plt.bar(filters, ENL_values)\n",
    "plt.title('Equivalent Number of Looks (ENL)')\n",
    "plt.tick_params(axis='x', rotation=90)\n",
    "plt.show()\n",
    "# Diagramme pour SMPI\n",
    "plt.bar(filters, SMPI_values)\n",
    "plt.title('Speckle Suppression and Mean Preservation Index (SMPI)')\n",
    "plt.tick_params(axis='x', rotation=90)\n",
    "plt.show()\n",
    "# Diagramme pour SSIM\n",
    "plt.bar(filters, SSIM_values)\n",
    "plt.title('Structural Similarity Index Measure (SSIM)')\n",
    "plt.tick_params(axis='x', rotation=90)\n",
    "plt.show()"
   ]
  },
  {
   "cell_type": "markdown",
   "metadata": {
    "id": "Cz9f0zkN4iAm"
   },
   "source": [
    "###**La méthode REACTIV**\n",
    "\n",
    " On transforme l'espace colorimétrique des images en espace HSV (Teinte, Saturation, Valeur):\n",
    " 1.\tCanal de Teinte (H) :\n",
    "\n",
    "![Capture d'écran 2023-10-13 09164555.png](data:image/png;base64,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)\n",
    " 2.\tCanal de Saturation (S) :\n",
    "\n",
    " ![Capture d'écran 2023-10-13 0917222.png](data:image/png;base64,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)\n",
    " 3.\tCanal de Luminosité (V) :\n",
    "\n",
    " ![Capture d'écran 2023-10-13 0921348.png](data:image/png;base64,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)"
   ]
  },
  {
   "cell_type": "code",
   "execution_count": null,
   "metadata": {
    "id": "EzUVhA1cFLvY"
   },
   "outputs": [],
   "source": [
    "def R_param(L):\n",
    "  CV=np.sqrt((L * mt.gamma(L)**2/(mt.gamma(L+0.5)**2))-1);\n",
    "  num=(L*mt.gamma(L)**4.*(4*(L**2)*mt.gamma(L)**2-4*L*mt.gamma(L+1/2)**2-mt.gamma(L+1/2)**2));\n",
    "  den=(mt.gamma(L+1/2)**4.*(L*mt.gamma(L)**2-mt.gamma(L+1/2)**2));\n",
    "  alpha=1/4*num/den;\n",
    "  return(CV,alpha)"
   ]
  },
  {
   "cell_type": "code",
   "execution_count": null,
   "metadata": {
    "id": "DzsBckeaTerH"
   },
   "outputs": [],
   "source": [
    "def REACTIV(img,t, L = 1):\n",
    "  (m,n,k) = img.shape\n",
    "\n",
    "  tmin = np.min(t)\n",
    "  tmax = np.max(t)\n",
    "\n",
    "  H=np.zeros((m,n))\n",
    "  argmax=np.argmax(img, axis = 2);\n",
    "  for i in range(m):\n",
    "    for j in range(n):\n",
    "      H[i,j] = 0.9 * (t[argmax[i,j]] - tmin)/(tmax - tmin)\n",
    "\n",
    "  print(\"H matrix calculated\")\n",
    "\n",
    "  threshold = np.mean(img[:,:,0])+3*np.std(img[:,:,0])\n",
    "  V=(np.max(img, axis = 2)/threshold)\n",
    "  V=(V<1)*V+(V>1)*1\n",
    "  print(\"V matrix calculated\")\n",
    "\n",
    "  eps = 1e-16\n",
    "  (CV,alpha) = R_param(L)\n",
    "  S = np.std(img, axis = 2)/(np.mean(img, axis = 2) + eps)\n",
    "  S=(S - CV)/(alpha/np.sqrt(k))/10.0+0.25\n",
    "\n",
    "  S=(S>1)*1.+(S<1)*S\n",
    "  S=(S>0)*S\n",
    "  print(\"S matrix calculated\")\n",
    "\n",
    "  HSV=np.zeros([m,n,3])\n",
    "\n",
    "  HSV[:, :, 0]=H\n",
    "  HSV[:, :, 1]=S\n",
    "  HSV[:, :, 2]=V\n",
    "\n",
    "  return HSV"
   ]
  },
  {
   "cell_type": "code",
   "execution_count": null,
   "metadata": {
    "id": "fJcUZ_URHDH1"
   },
   "outputs": [],
   "source": [
    "from matplotlib.cm import get_cmap\n",
    "from matplotlib.colors import ListedColormap\n",
    "def colar_bar(t):\n",
    "  tmin = np.min(t)\n",
    "  tmax = np.max(t)\n",
    "  u = 0.9*(t - tmin)/(tmax - tmin)\n",
    "  hsv_modified = get_cmap('hsv', 256)\n",
    "  newcmp = ListedColormap(hsv_modified(u))\n",
    "  return(newcmp)"
   ]
  },
  {
   "cell_type": "code",
   "execution_count": null,
   "metadata": {
    "colab": {
     "base_uri": "https://localhost:8080/"
    },
    "id": "E23unFvneLf7",
    "outputId": "0056a7a9-d6a5-4d31-ba4f-2552870cf7f8"
   },
   "outputs": [],
   "source": [
    "imch = color.hsv2rgb(REACTIV(im_abs_tsx_paris,t))"
   ]
  },
  {
   "cell_type": "code",
   "execution_count": null,
   "metadata": {
    "id": "PpAIhyBSHJ76"
   },
   "outputs": [],
   "source": [
    "from datetime import date\n",
    "def visuchange(image,t):\n",
    "  colors= np.linspace(0, len(t)-1, len(t))\n",
    "  colorbar = np.transpose(np.vstack((colors, colors)))\n",
    "  fig, ax = plt.subplots(1, 2, figsize=(12, 12),gridspec_kw={'width_ratios': [1, int(len(t)*1.8)]})\n",
    "  ax[0].imshow(colorbar, cmap=colar_bar(t), aspect = 3)\n",
    "  ax[0].get_xaxis().set_visible(False)\n",
    "  ax[0].set_yticks(list(colors))\n",
    "  ax[0].set_yticklabels([ date.fromordinal(d) for d in t])\n",
    "  ax[1].imshow(image)\n",
    "  ax[1].set_axis_off()"
   ]
  },
  {
   "cell_type": "code",
   "execution_count": null,
   "metadata": {
    "colab": {
     "base_uri": "https://localhost:8080/",
     "height": 915
    },
    "id": "1S-ap3O3Hp_0",
    "outputId": "edbec1c8-ff63-40c0-ea1b-d4454986d168"
   },
   "outputs": [],
   "source": [
    "visuchange(imch,t)"
   ]
  },
  {
   "cell_type": "markdown",
   "metadata": {
    "id": "JWsRess3aMYe"
   },
   "source": [
    "Resultats avec des images debruitées temporellement"
   ]
  },
  {
   "cell_type": "code",
   "execution_count": null,
   "metadata": {
    "colab": {
     "base_uri": "https://localhost:8080/"
    },
    "id": "waAmwYqtpj0Z",
    "outputId": "f10fb80c-94b7-4056-cff9-cbe7d4ac820b"
   },
   "outputs": [],
   "source": [
    "tden_imch=color.hsv2rgb(REACTIV(debruitees,t))"
   ]
  },
  {
   "cell_type": "code",
   "execution_count": null,
   "metadata": {
    "colab": {
     "base_uri": "https://localhost:8080/",
     "height": 915
    },
    "id": "AdmqAtoGH1A7",
    "outputId": "3e05d3e5-a600-494b-9689-73035cabf9eb"
   },
   "outputs": [],
   "source": [
    "visuchange(tden_imch,t)"
   ]
  },
  {
   "cell_type": "markdown",
   "metadata": {
    "id": "ga62fBXLaDFn"
   },
   "source": [
    "Resultats avec des images debruitées spatialement"
   ]
  },
  {
   "cell_type": "code",
   "execution_count": null,
   "metadata": {
    "colab": {
     "base_uri": "https://localhost:8080/",
     "height": 269
    },
    "id": "87lPoKAUaDef",
    "outputId": "bfe45866-a4e4-4463-f9de-f62df319680d"
   },
   "outputs": [],
   "source": [
    "m,n,k = im_abs_tsx_paris.shape\n",
    "sp_deb = np.zeros((m,n,k))\n",
    "for i in range(k):\n",
    "  sp_deb[:,:,i] = lee_filter(im_abs_tsx_paris[:,:,i], window_size = 5)"
   ]
  },
  {
   "cell_type": "code",
   "execution_count": null,
   "metadata": {
    "id": "IzbRjbghaWPc"
   },
   "outputs": [],
   "source": [
    "sden_imch=color.hsv2rgb(REACTIV(sp_deb,t))\n",
    "visuchange(sden_imch,t)"
   ]
  },
  {
   "cell_type": "markdown",
   "metadata": {
    "id": "bfePN1ljaWvi"
   },
   "source": [
    "Resultats avec des images debriotées temporellement et spatiallement"
   ]
  },
  {
   "cell_type": "code",
   "execution_count": null,
   "metadata": {
    "id": "IM4yyRSJadV-"
   },
   "outputs": [],
   "source": [
    "m,n,k = im_abs_tsx_paris.shape\n",
    "sp_tmp_deb = np.zeros((m,n,k))\n",
    "for i in range(k):\n",
    "  sp_tmp_deb[:,:,i] = lee_filter(debruitees[:,:,i], window_size = 5)"
   ]
  },
  {
   "cell_type": "code",
   "execution_count": null,
   "metadata": {
    "colab": {
     "base_uri": "https://localhost:8080/",
     "height": 967
    },
    "id": "DZDz2Lnoaek-",
    "outputId": "d2e0cfdc-5c8b-42bc-9a3e-7b463406936e"
   },
   "outputs": [],
   "source": [
    "sden_imch=color.hsv2rgb(REACTIV(sp_tmp_deb,t))\n",
    "visuchange(sden_imch,t)"
   ]
  },
  {
   "cell_type": "markdown",
   "metadata": {
    "id": "3bhdmlJK0jrL"
   },
   "source": [
    "##Detection"
   ]
  },
  {
   "cell_type": "code",
   "execution_count": null,
   "metadata": {
    "colab": {
     "base_uri": "https://localhost:8080/"
    },
    "id": "p7zwamE0DDV-",
    "outputId": "d1240747-5ef6-4a41-8b96-366c33934101"
   },
   "outputs": [],
   "source": [
    "0.522723 * np.sqrt(2/np.pi)"
   ]
  },
  {
   "cell_type": "code",
   "execution_count": null,
   "metadata": {
    "colab": {
     "base_uri": "https://localhost:8080/",
     "height": 1000
    },
    "id": "IDvwZz7W0j5W",
    "outputId": "2879f829-e9df-4714-e7c9-675c3032dfd0"
   },
   "outputs": [],
   "source": [
    "alpha = 0.01\n",
    "img_detection = np.std(sp_tmp_deb, axis = 2)/np.mean(sp_tmp_deb,axis = 2)\n",
    "seuil = np.quantile(img_detection.ravel(),1 - alpha)\n",
    "change = (img_detection>seuil)\n",
    "\n",
    "img_det= np.mean(sp_tmp_deb,axis = 2)\n",
    "\n",
    "threshold = np.mean(img_det) + 3*np.std(img_det)\n",
    "\n",
    "img_show = np.zeros((m,n,3))\n",
    "\n",
    "image_sh = np.clip(img_det,0,threshold)\n",
    "image_sh = image_sh/threshold\n",
    "plt.figure(figsize=(12,12))\n",
    "img_show[:,:,0] = np.clip(image_sh + change,0,1)\n",
    "img_show[:,:,1] = image_sh * (1-change)\n",
    "img_show[:,:,2] = image_sh* (1-change)\n",
    "plt.imshow(img_show)"
   ]
  },
  {
   "cell_type": "code",
   "execution_count": null,
   "metadata": {
    "id": "IcB83y5Tlrbn"
   },
   "outputs": [],
   "source": [
    "m,n,k = im_abs_tsx_paris.shape\n",
    "indexes = np.argmax(sp_tmp_deb, axis = 2)\n",
    "img_sp_tp_mx  = np.zeros((m,n,k-1))\n",
    "\n",
    "for i in range (m):\n",
    "  for j in range(n):\n",
    "    img_sp_tp_mx[i,j,:] = np.take(sp_tmp_deb[i,j,:],[u for u in range(k) if u != indexes[i,j]])\n",
    "\n",
    "gamma_mx = np.std(img_sp_tp_mx, axis = 2)/np.mean(img_sp_tp_mx,axis = 2)"
   ]
  },
  {
   "cell_type": "code",
   "execution_count": null,
   "metadata": {
    "id": "-NVn1HS5tSxr"
   },
   "outputs": [],
   "source": [
    "m,n,k = im_abs_tsx_paris.shape\n",
    "indexes = np.argmin(sp_tmp_deb, axis = 2)\n",
    "img_sp_tp_mn  = np.zeros((m,n,k-1))\n",
    "\n",
    "for i in range (m):\n",
    "  for j in range(n):\n",
    "    img_sp_tp_mn[i,j,:] = np.take(sp_tmp_deb[i,j,:],[u for u in range(k) if u != indexes[i,j]])\n",
    "\n",
    "gamma_mn = np.std(img_sp_tp_mn, axis = 2)/np.mean(img_sp_tp_mn,axis = 2)"
   ]
  },
  {
   "cell_type": "code",
   "execution_count": null,
   "metadata": {
    "colab": {
     "base_uri": "https://localhost:8080/",
     "height": 1000
    },
    "id": "KS0a2DSCw3UE",
    "outputId": "0753ef97-12b1-44dd-9c07-8be80c2f054d"
   },
   "outputs": [],
   "source": [
    "f_gamma = gamma_mx/gamma_mn\n",
    "alpha = 0.01\n",
    "seuil = np.quantile(f_gamma.ravel(),1 - alpha)\n",
    "change = (f_gamma >seuil)\n",
    "\n",
    "img_det= np.mean(sp_tmp_deb,axis = 2)\n",
    "\n",
    "threshold = np.mean(img_det) + 3*np.std(img_det)\n",
    "\n",
    "img_show = np.zeros((m,n,3))\n",
    "\n",
    "image_sh = np.clip(img_det,0,threshold)\n",
    "image_sh = image_sh/threshold\n",
    "plt.figure(figsize=(12,12))\n",
    "img_show[:,:,0] = np.clip(image_sh + change,0,1)\n",
    "img_show[:,:,1] = image_sh * (1-change)\n",
    "img_show[:,:,2] = image_sh* (1-change)\n",
    "plt.imshow(img_show)"
   ]
  },
  {
   "cell_type": "markdown",
   "metadata": {
    "id": "bhRBO2ELK1lk"
   },
   "source": [
    "##Resultat avec images SAR"
   ]
  },
  {
   "cell_type": "code",
   "execution_count": null,
   "metadata": {
    "id": "p7hbPg7VJCnL"
   },
   "outputs": [],
   "source": [
    "webpage='https://perso.telecom-paristech.fr/dalsasso/TPSAR/pilelely/multitemp/'\n",
    "image='lely_tuple_multitemp.IMA'\n",
    "im_lely_multitemp = mvalab.imz2mat(webpage+image)\n",
    "im_lely_serie = np.abs(im_lely_multitemp[0]) # on ne s'intéresse qu'à l'amplitude"
   ]
  },
  {
   "cell_type": "code",
   "execution_count": null,
   "metadata": {
    "id": "QcyVVmdfJDoC"
   },
   "outputs": [],
   "source": [
    "m,n,k=im_lely_serie.shape # 25 images (dates), chacune de taille 512x512 pixels"
   ]
  },
  {
   "cell_type": "code",
   "execution_count": null,
   "metadata": {
    "id": "FPpggWNlJDvM"
   },
   "outputs": [],
   "source": [
    "# analyse de l'histogramme de l'amplitude d'une image (première date)\n",
    "plt.hist(im_lely_serie[:,:,0].ravel(),bins='auto',density=True,range=[0.,500])  # Rayleigh distributed\n",
    "plt.title('histogram of amplitude')"
   ]
  },
  {
   "cell_type": "code",
   "execution_count": null,
   "metadata": {
    "id": "bqY2x4ncJENL"
   },
   "outputs": [],
   "source": [
    "np.max(im_lely_serie[:,:,0])"
   ]
  },
  {
   "cell_type": "code",
   "execution_count": null,
   "metadata": {
    "id": "HZRR7IEnJhNF"
   },
   "outputs": [],
   "source": [
    "# si on affiche toute la dynamique, l'image apparaît peu contrastée et seulement quelques points ressortent (très forts rétrodiffuseurs)\n",
    "plt.figure(figsize=(8,8))\n",
    "plt.imshow((im_lely_serie[:,:,0]),cmap='gray')\n",
    "plt.show()"
   ]
  },
  {
   "cell_type": "code",
   "execution_count": null,
   "metadata": {
    "id": "HVkM5rWiJm-M"
   },
   "outputs": [],
   "source": [
    "# on visualise la première (index 0) et la cinquème (index 4) date de la pile\n",
    "visusar(im_lely_serie[:,:,0])\n",
    "visusar(im_lely_serie[:,:,4])"
   ]
  },
  {
   "cell_type": "code",
   "execution_count": null,
   "metadata": {
    "id": "OxeSChraJwm5"
   },
   "outputs": [],
   "source": [
    "seuil = np.mean(im_lely_serie[:,:,0])+3*np.std(im_lely_serie[:,:,0])\n",
    "visusar(im_lely_serie[:,:,0],seuil)\n",
    "visusar(im_lely_serie[:,:,4],seuil)"
   ]
  },
  {
   "cell_type": "code",
   "execution_count": null,
   "metadata": {
    "id": "-_JtFWMnJ13R"
   },
   "outputs": [],
   "source": [
    "# analyse de l'histogramme de l'amplitude d'une image (première date)\n",
    "plt.figure()\n",
    "plt.hist(im_lely_serie[:,:,0].ravel(),bins='auto',density=True,range=[0.,1000])  # Rayleigh distributed\n",
    "plt.title('histogram of amplitude')\n",
    "plt.show()"
   ]
  },
  {
   "cell_type": "code",
   "execution_count": null,
   "metadata": {
    "id": "XxWCeQHCnd6w"
   },
   "outputs": [],
   "source": []
  }
 ],
 "metadata": {
  "colab": {
   "provenance": []
  },
  "kernelspec": {
   "display_name": "Python 3 (ipykernel)",
   "language": "python",
   "name": "python3"
  },
  "language_info": {
   "codemirror_mode": {
    "name": "ipython",
    "version": 3
   },
   "file_extension": ".py",
   "mimetype": "text/x-python",
   "name": "python",
   "nbconvert_exporter": "python",
   "pygments_lexer": "ipython3",
   "version": "3.11.4"
  }
 },
 "nbformat": 4,
 "nbformat_minor": 1
}
